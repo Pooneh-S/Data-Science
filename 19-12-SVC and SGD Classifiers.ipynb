{
 "cells": [
  {
   "cell_type": "markdown",
   "metadata": {},
   "source": [
    "## Fashion MNIST Fashion dataset -  SVC and SGD Classifiers"
   ]
  },
  {
   "cell_type": "code",
   "execution_count": 1,
   "metadata": {},
   "outputs": [],
   "source": [
    "#importing libraries\n",
    "\n",
    "import numpy as np\n",
    "import pandas as pd\n",
    "import tensorflow as tf\n",
    "random_state=42\n",
    "np.random.seed(123)\n",
    "\n",
    "%matplotlib inline\n",
    "import matplotlib\n",
    "import matplotlib.pyplot as plt\n",
    "import seaborn as sns"
   ]
  },
  {
   "cell_type": "code",
   "execution_count": 2,
   "metadata": {},
   "outputs": [],
   "source": [
    "#Importing data\n",
    "(X0_train, y1_train), (X0_test, y1_test)=tf.keras.datasets.fashion_mnist.load_data()"
   ]
  },
  {
   "cell_type": "markdown",
   "metadata": {},
   "source": [
    "### 1. Exploring data"
   ]
  },
  {
   "cell_type": "code",
   "execution_count": 3,
   "metadata": {},
   "outputs": [
    {
     "data": {
      "text/plain": [
       "numpy.ndarray"
      ]
     },
     "execution_count": 3,
     "metadata": {},
     "output_type": "execute_result"
    }
   ],
   "source": [
    "type(X0_train)"
   ]
  },
  {
   "cell_type": "code",
   "execution_count": 4,
   "metadata": {},
   "outputs": [
    {
     "data": {
      "text/plain": [
       "(10000, 28, 28)"
      ]
     },
     "execution_count": 4,
     "metadata": {},
     "output_type": "execute_result"
    }
   ],
   "source": [
    "X0_test.shape"
   ]
  },
  {
   "cell_type": "code",
   "execution_count": 5,
   "metadata": {},
   "outputs": [],
   "source": [
    "# reshaping data into 2D array\n",
    "X1_train=X0_train.reshape(60000,784)\n",
    "X1_test=X0_test.reshape(10000,784)\n"
   ]
  },
  {
   "cell_type": "code",
   "execution_count": 6,
   "metadata": {},
   "outputs": [],
   "source": [
    "#Scaling data\n",
    "X_train=X1_train[:10000]/255\n",
    "X_test=X1_test[:10000]/255\n",
    "y_train=y1_train[:10000]\n",
    "y_test=y1_test[:10000]\n"
   ]
  },
  {
   "cell_type": "code",
   "execution_count": 7,
   "metadata": {},
   "outputs": [
    {
     "data": {
      "text/plain": [
       "array([[0., 0., 0., ..., 0., 0., 0.],\n",
       "       [0., 0., 0., ..., 0., 0., 0.],\n",
       "       [0., 0., 0., ..., 0., 0., 0.],\n",
       "       ...,\n",
       "       [0., 0., 0., ..., 0., 0., 0.],\n",
       "       [0., 0., 0., ..., 0., 0., 0.],\n",
       "       [0., 0., 0., ..., 0., 0., 0.]])"
      ]
     },
     "execution_count": 7,
     "metadata": {},
     "output_type": "execute_result"
    }
   ],
   "source": [
    "X_train"
   ]
  },
  {
   "cell_type": "code",
   "execution_count": 8,
   "metadata": {},
   "outputs": [
    {
     "data": {
      "text/plain": [
       "(10000, 784)"
      ]
     },
     "execution_count": 8,
     "metadata": {},
     "output_type": "execute_result"
    }
   ],
   "source": [
    "X_train.shape"
   ]
  },
  {
   "cell_type": "code",
   "execution_count": 9,
   "metadata": {},
   "outputs": [
    {
     "data": {
      "text/plain": [
       "(10000,)"
      ]
     },
     "execution_count": 9,
     "metadata": {},
     "output_type": "execute_result"
    }
   ],
   "source": [
    "y_train.shape"
   ]
  },
  {
   "cell_type": "code",
   "execution_count": 10,
   "metadata": {},
   "outputs": [
    {
     "data": {
      "text/plain": [
       "(10000, 784)"
      ]
     },
     "execution_count": 10,
     "metadata": {},
     "output_type": "execute_result"
    }
   ],
   "source": [
    "X_test.shape"
   ]
  },
  {
   "cell_type": "code",
   "execution_count": 11,
   "metadata": {},
   "outputs": [
    {
     "data": {
      "text/plain": [
       "1.0"
      ]
     },
     "execution_count": 11,
     "metadata": {},
     "output_type": "execute_result"
    }
   ],
   "source": [
    "X_train.max()"
   ]
  },
  {
   "cell_type": "code",
   "execution_count": 12,
   "metadata": {},
   "outputs": [
    {
     "data": {
      "text/plain": [
       "9"
      ]
     },
     "execution_count": 12,
     "metadata": {},
     "output_type": "execute_result"
    }
   ],
   "source": [
    "y_train.max()"
   ]
  },
  {
   "cell_type": "markdown",
   "metadata": {},
   "source": [
    "### 2. Support Vector Machine"
   ]
  },
  {
   "cell_type": "markdown",
   "metadata": {},
   "source": [
    "**2.1. Training SVC Model**"
   ]
  },
  {
   "cell_type": "code",
   "execution_count": 13,
   "metadata": {},
   "outputs": [
    {
     "name": "stderr",
     "output_type": "stream",
     "text": [
      "C:\\Users\\User\\Machine-Learning\\Install\\lib\\site-packages\\sklearn\\svm\\base.py:193: FutureWarning: The default value of gamma will change from 'auto' to 'scale' in version 0.22 to account better for unscaled features. Set gamma explicitly to 'auto' or 'scale' to avoid this warning.\n",
      "  \"avoid this warning.\", FutureWarning)\n",
      "C:\\Users\\User\\Machine-Learning\\Install\\lib\\site-packages\\sklearn\\svm\\base.py:193: FutureWarning: The default value of gamma will change from 'auto' to 'scale' in version 0.22 to account better for unscaled features. Set gamma explicitly to 'auto' or 'scale' to avoid this warning.\n",
      "  \"avoid this warning.\", FutureWarning)\n",
      "C:\\Users\\User\\Machine-Learning\\Install\\lib\\site-packages\\sklearn\\svm\\base.py:193: FutureWarning: The default value of gamma will change from 'auto' to 'scale' in version 0.22 to account better for unscaled features. Set gamma explicitly to 'auto' or 'scale' to avoid this warning.\n",
      "  \"avoid this warning.\", FutureWarning)\n",
      "C:\\Users\\User\\Machine-Learning\\Install\\lib\\site-packages\\sklearn\\svm\\base.py:193: FutureWarning: The default value of gamma will change from 'auto' to 'scale' in version 0.22 to account better for unscaled features. Set gamma explicitly to 'auto' or 'scale' to avoid this warning.\n",
      "  \"avoid this warning.\", FutureWarning)\n",
      "C:\\Users\\User\\Machine-Learning\\Install\\lib\\site-packages\\sklearn\\svm\\base.py:193: FutureWarning: The default value of gamma will change from 'auto' to 'scale' in version 0.22 to account better for unscaled features. Set gamma explicitly to 'auto' or 'scale' to avoid this warning.\n",
      "  \"avoid this warning.\", FutureWarning)\n"
     ]
    },
    {
     "name": "stdout",
     "output_type": "stream",
     "text": [
      "Time elapsed: 175.29650568962097 seconds\n",
      "SVC mean accuracy: 81.02 % std 0.008 %\n"
     ]
    }
   ],
   "source": [
    "from sklearn.svm import SVC\n",
    "from sklearn.metrics import accuracy_score,confusion_matrix\n",
    "from sklearn.model_selection import cross_val_score,cross_val_predict\n",
    "import time\n",
    "\n",
    "time_start = time.time()\n",
    "\n",
    "svm_clf = SVC()\n",
    "cv_scores=cross_val_score(svm_clf,X_train, y_train, cv=5)\n",
    "\n",
    "print('Time elapsed: {} seconds'.format(time.time()-time_start))\n",
    "print('SVC mean accuracy:',round(cv_scores.mean()*100,3),'% std',round(cv_scores.var()*100,3),'%')"
   ]
  },
  {
   "cell_type": "code",
   "execution_count": 14,
   "metadata": {},
   "outputs": [
    {
     "data": {
      "text/plain": [
       "SVC(C=1.0, cache_size=200, class_weight=None, coef0=0.0,\n",
       "    decision_function_shape='ovr', degree=3, gamma='auto_deprecated',\n",
       "    kernel='rbf', max_iter=-1, probability=False, random_state=None,\n",
       "    shrinking=True, tol=0.001, verbose=False)"
      ]
     },
     "execution_count": 14,
     "metadata": {},
     "output_type": "execute_result"
    }
   ],
   "source": [
    "svm_clf"
   ]
  },
  {
   "cell_type": "code",
   "execution_count": 15,
   "metadata": {},
   "outputs": [
    {
     "name": "stdout",
     "output_type": "stream",
     "text": [
      "[0.81786427 0.81068931 0.82041021 0.79489745 0.80711423]\n"
     ]
    }
   ],
   "source": [
    "print(cv_scores)"
   ]
  },
  {
   "cell_type": "code",
   "execution_count": 16,
   "metadata": {},
   "outputs": [
    {
     "name": "stderr",
     "output_type": "stream",
     "text": [
      "C:\\Users\\User\\Machine-Learning\\Install\\lib\\site-packages\\sklearn\\svm\\base.py:193: FutureWarning: The default value of gamma will change from 'auto' to 'scale' in version 0.22 to account better for unscaled features. Set gamma explicitly to 'auto' or 'scale' to avoid this warning.\n",
      "  \"avoid this warning.\", FutureWarning)\n"
     ]
    },
    {
     "name": "stdout",
     "output_type": "stream",
     "text": [
      "Time elapsed: 32.906132221221924 seconds\n"
     ]
    }
   ],
   "source": [
    "time_start = time.time()\n",
    "\n",
    "svm_clf.fit(X_train, y_train)\n",
    "\n",
    "print('Time elapsed: {} seconds'.format(time.time()-time_start))"
   ]
  },
  {
   "cell_type": "code",
   "execution_count": 17,
   "metadata": {},
   "outputs": [
    {
     "data": {
      "text/plain": [
       "SVC(C=1.0, cache_size=200, class_weight=None, coef0=0.0,\n",
       "    decision_function_shape='ovr', degree=3, gamma='auto_deprecated',\n",
       "    kernel='rbf', max_iter=-1, probability=False, random_state=None,\n",
       "    shrinking=True, tol=0.001, verbose=False)"
      ]
     },
     "execution_count": 17,
     "metadata": {},
     "output_type": "execute_result"
    }
   ],
   "source": [
    "svm_clf"
   ]
  },
  {
   "cell_type": "markdown",
   "metadata": {},
   "source": [
    "**2.2. Predicting Test Dataset**"
   ]
  },
  {
   "cell_type": "code",
   "execution_count": 18,
   "metadata": {},
   "outputs": [
    {
     "name": "stdout",
     "output_type": "stream",
     "text": [
      "Test accuracy for SVC: 80.9 %\n",
      "Time elapsed: 51.49246692657471 seconds\n"
     ]
    }
   ],
   "source": [
    "time_start = time.time()\n",
    "\n",
    "y_hat_svc = svm_clf.predict(X_test)\n",
    "\n",
    "print('Test accuracy for SVC:'\\\n",
    "      , round(accuracy_score(y_test, y_hat_svc)*100, 2), '%')\n",
    "\n",
    "print('Time elapsed: {} seconds'.format(time.time()-time_start))\n"
   ]
  },
  {
   "cell_type": "markdown",
   "metadata": {},
   "source": [
    "**Confusion Matrix**"
   ]
  },
  {
   "cell_type": "code",
   "execution_count": 19,
   "metadata": {},
   "outputs": [
    {
     "data": {
      "image/png": "[encoded data removed]",
      "text/plain": [
       "<Figure size 864x576 with 2 Axes>"
      ]
     },
     "metadata": {
      "needs_background": "light"
     },
     "output_type": "display_data"
    }
   ],
   "source": [
    "plt.figure(figsize=(12,8))\n",
    "plt.title('Confusion matrix for SVM classifier')\n",
    "sns.heatmap(confusion_matrix(y_test, y_hat_svc), annot=True, cmap=\"YlGn\")\n",
    "plt.xlabel('Predicted classes')\n",
    "plt.ylabel('True Classes')\n",
    "plt.show()"
   ]
  },
  {
   "cell_type": "markdown",
   "metadata": {},
   "source": [
    "**2.3. Trying Different Parameters**"
   ]
  },
  {
   "cell_type": "code",
   "execution_count": 20,
   "metadata": {},
   "outputs": [
    {
     "name": "stdout",
     "output_type": "stream",
     "text": [
      "Time elapsed: 128.81018996238708 seconds\n",
      "SVC mean accuracy: 83.621 % std 0.01 %\n"
     ]
    }
   ],
   "source": [
    "svm_clf = SVC(kernel='poly',C=0.1,degree=4,gamma=0.1,coef0=2)\n",
    "cv_scores=cross_val_score(svm_clf,X_train, y_train, cv=5)\n",
    "\n",
    "print('Time elapsed: {} seconds'.format(time.time()-time_start))\n",
    "print('SVC mean accuracy:',round(cv_scores.mean()*100,3),'% std',round(cv_scores.var()*100,3),'%')"
   ]
  },
  {
   "cell_type": "code",
   "execution_count": 21,
   "metadata": {},
   "outputs": [
    {
     "name": "stdout",
     "output_type": "stream",
     "text": [
      "Time elapsed: 206.06787967681885 seconds\n",
      "SVC mean accuracy: 83.621 % std 0.01 %\n"
     ]
    }
   ],
   "source": [
    "svm_clf = SVC(kernel='poly',C=10,degree=4,gamma=0.1,coef0=2)\n",
    "cv_scores=cross_val_score(svm_clf,X_train, y_train, cv=5)\n",
    "\n",
    "print('Time elapsed: {} seconds'.format(time.time()-time_start))\n",
    "print('SVC mean accuracy:',round(cv_scores.mean()*100,3),'% std',round(cv_scores.var()*100,3),'%')"
   ]
  },
  {
   "cell_type": "code",
   "execution_count": 22,
   "metadata": {},
   "outputs": [
    {
     "name": "stdout",
     "output_type": "stream",
     "text": [
      "Time elapsed: 764.5621745586395 seconds\n",
      "SVC mean accuracy: 53.22 % std 0.019 %\n"
     ]
    }
   ],
   "source": [
    "svm_clf = SVC(kernel='rbf',C=0.1,gamma=0.1)\n",
    "cv_scores=cross_val_score(svm_clf,X_train, y_train, cv=5)\n",
    "\n",
    "print('Time elapsed: {} seconds'.format(time.time()-time_start))\n",
    "print('SVC mean accuracy:',round(cv_scores.mean()*100,3),'% std',round(cv_scores.var()*100,3),'%')"
   ]
  },
  {
   "cell_type": "code",
   "execution_count": 23,
   "metadata": {},
   "outputs": [
    {
     "name": "stdout",
     "output_type": "stream",
     "text": [
      "Time elapsed: 1319.086152791977 seconds\n",
      "SVC mean accuracy: 80.561 % std 0.015 %\n"
     ]
    }
   ],
   "source": [
    "svm_clf = SVC(kernel='rbf',C=10,gamma=0.1)\n",
    "cv_scores=cross_val_score(svm_clf,X_train, y_train, cv=5)\n",
    "\n",
    "print('Time elapsed: {} seconds'.format(time.time()-time_start))\n",
    "print('SVC mean accuracy:',round(cv_scores.mean()*100,3),'% std',round(cv_scores.var()*100,3),'%')"
   ]
  },
  {
   "cell_type": "code",
   "execution_count": 24,
   "metadata": {},
   "outputs": [
    {
     "name": "stdout",
     "output_type": "stream",
     "text": [
      "Time elapsed: 1951.5572741031647 seconds\n",
      "SVC mean accuracy: 15.62 % std 0.001 %\n"
     ]
    }
   ],
   "source": [
    "svm_clf = SVC(kernel='sigmoid',C=10,gamma=0.1,coef0=2)\n",
    "cv_scores=cross_val_score(svm_clf,X_train, y_train, cv=5)\n",
    "\n",
    "print('Time elapsed: {} seconds'.format(time.time()-time_start))\n",
    "print('SVC mean accuracy:',round(cv_scores.mean()*100,3),'% std',round(cv_scores.var()*100,3),'%')"
   ]
  },
  {
   "cell_type": "code",
   "execution_count": 25,
   "metadata": {},
   "outputs": [
    {
     "name": "stdout",
     "output_type": "stream",
     "text": [
      "Time elapsed: 2057.6244633197784 seconds\n",
      "SVC mean accuracy: 80.751 % std 0.009 %\n"
     ]
    }
   ],
   "source": [
    "svm_clf = SVC(kernel='linear',C=10)\n",
    "cv_scores=cross_val_score(svm_clf,X_train, y_train, cv=5)\n",
    "\n",
    "print('Time elapsed: {} seconds'.format(time.time()-time_start))\n",
    "print('SVC mean accuracy:',round(cv_scores.mean()*100,3),'% std',round(cv_scores.var()*100,3),'%')"
   ]
  },
  {
   "cell_type": "markdown",
   "metadata": {},
   "source": [
    "**2.4. Random Search**"
   ]
  },
  {
   "cell_type": "code",
   "execution_count": 44,
   "metadata": {},
   "outputs": [
    {
     "name": "stdout",
     "output_type": "stream",
     "text": [
      "Time elapsed: 12979.435748815536 seconds\n"
     ]
    }
   ],
   "source": [
    "from sklearn.model_selection import RandomizedSearchCV\n",
    "\n",
    "param_dist = {'C':[0.1,1,10,100],\n",
    "              'kernel':['poly', 'rbf'],\n",
    "              'degree':[2,4,8],\n",
    "              'coef0':[2,6,10],\n",
    "              'gamma':[0.01,0.1,1]}\n",
    "\n",
    "time_start = time.time()\n",
    "\n",
    "random_search = RandomizedSearchCV(estimator=svm_clf, \n",
    "                           param_distributions=param_dist,\n",
    "                           n_iter=50,                     \n",
    "                           scoring='accuracy',\n",
    "                           cv=5)\n",
    "\n",
    "random_search.fit(X_train, y_train)\n",
    "\n",
    "print('Time elapsed: {} seconds'.format(time.time()-time_start))"
   ]
  },
  {
   "cell_type": "code",
   "execution_count": 45,
   "metadata": {},
   "outputs": [
    {
     "name": "stdout",
     "output_type": "stream",
     "text": [
      "{'kernel': 'rbf', 'gamma': 0.01, 'degree': 2, 'coef0': 10, 'C': 10}\n",
      "\n",
      " SVC(C=10, cache_size=200, class_weight=None, coef0=10,\n",
      "    decision_function_shape='ovr', degree=2, gamma=0.01, kernel='rbf',\n",
      "    max_iter=-1, probability=False, random_state=None, shrinking=True,\n",
      "    tol=0.001, verbose=False)\n"
     ]
    }
   ],
   "source": [
    "print(random_search.best_params_)\n",
    "print(\"\\n\",random_search.best_estimator_)"
   ]
  },
  {
   "cell_type": "markdown",
   "metadata": {},
   "source": [
    "**2.5. Training Model with Best Parameters**"
   ]
  },
  {
   "cell_type": "code",
   "execution_count": 46,
   "metadata": {},
   "outputs": [
    {
     "name": "stdout",
     "output_type": "stream",
     "text": [
      "Time elapsed: 62.308266162872314 seconds\n",
      "Test accuracy for Support Vector classifier, using best parameters from random search: 86.69 %\n"
     ]
    }
   ],
   "source": [
    "svm_clf=SVC(kernel= random_search.best_params_['kernel'],\n",
    "                                gamma= random_search.best_params_['gamma'],\n",
    "                                coef0= random_search.best_params_['coef0'],\n",
    "                                degree= random_search.best_params_['degree'],\n",
    "                                C=random_search.best_params_['C'])\n",
    "time_start = time.time()\n",
    "\n",
    "svm_clf.fit(X_train,y_train)\n",
    "y_hat_svc = svm_clf.predict(X_test)\n",
    "\n",
    "print('Time elapsed: {} seconds'.format(time.time()-time_start))\n",
    "print('Test accuracy for Support Vector classifier, using best parameters from random search:',\n",
    "      round(accuracy_score(y_test, y_hat_svc)*100, 2), '%')\n"
   ]
  },
  {
   "cell_type": "code",
   "execution_count": 47,
   "metadata": {},
   "outputs": [
    {
     "data": {
      "text/plain": [
       "SVC(C=10, cache_size=200, class_weight=None, coef0=10,\n",
       "    decision_function_shape='ovr', degree=2, gamma=0.01, kernel='rbf',\n",
       "    max_iter=-1, probability=False, random_state=None, shrinking=True,\n",
       "    tol=0.001, verbose=False)"
      ]
     },
     "execution_count": 47,
     "metadata": {},
     "output_type": "execute_result"
    }
   ],
   "source": [
    "svm_clf"
   ]
  },
  {
   "cell_type": "code",
   "execution_count": 48,
   "metadata": {},
   "outputs": [
    {
     "data": {
      "image/png": "[encoded data removed]",
      "text/plain": [
       "<Figure size 864x576 with 2 Axes>"
      ]
     },
     "metadata": {
      "needs_background": "light"
     },
     "output_type": "display_data"
    }
   ],
   "source": [
    "plt.figure(figsize=(12,8))\n",
    "plt.title('Confusion matrix for SVM classifier')\n",
    "sns.heatmap(confusion_matrix(y_test, y_hat_svc), annot=True, cmap=\"YlGn\")\n",
    "plt.xlabel('Predicted classes')\n",
    "plt.ylabel('True Classes')\n",
    "plt.show()"
   ]
  },
  {
   "cell_type": "markdown",
   "metadata": {},
   "source": [
    "### 3. SGD Classifier"
   ]
  },
  {
   "cell_type": "markdown",
   "metadata": {},
   "source": [
    "**3.1. Training SGD Model**"
   ]
  },
  {
   "cell_type": "code",
   "execution_count": 49,
   "metadata": {},
   "outputs": [
    {
     "name": "stdout",
     "output_type": "stream",
     "text": [
      "Time elapsed: 27.73216414451599 seconds\n",
      "SGD mean accuracy: 80.199 %, std 0.003\n"
     ]
    }
   ],
   "source": [
    "from sklearn.linear_model import SGDClassifier\n",
    "from sklearn.metrics import accuracy_score, confusion_matrix\n",
    "from sklearn.model_selection import cross_val_score, cross_val_predict\n",
    "\n",
    "time_start = time.time()\n",
    "\n",
    "sgd_clf = SGDClassifier()\n",
    "\n",
    "cv_scores=cross_val_score(sgd_clf,X_train, y_train,cv=5)\n",
    "\n",
    "print('Time elapsed: {} seconds'.format(time.time()-time_start))\n",
    "print('SGD mean accuracy:', round(cv_scores.mean()*100,3),'%, std',round(cv_scores.var()*100,3) )"
   ]
  },
  {
   "cell_type": "code",
   "execution_count": 50,
   "metadata": {},
   "outputs": [
    {
     "data": {
      "text/plain": [
       "SGDClassifier(alpha=0.0001, average=False, class_weight=None,\n",
       "              early_stopping=False, epsilon=0.1, eta0=0.0, fit_intercept=True,\n",
       "              l1_ratio=0.15, learning_rate='optimal', loss='hinge',\n",
       "              max_iter=1000, n_iter_no_change=5, n_jobs=None, penalty='l2',\n",
       "              power_t=0.5, random_state=None, shuffle=True, tol=0.001,\n",
       "              validation_fraction=0.1, verbose=0, warm_start=False)"
      ]
     },
     "execution_count": 50,
     "metadata": {},
     "output_type": "execute_result"
    }
   ],
   "source": [
    "sgd_clf"
   ]
  },
  {
   "cell_type": "code",
   "execution_count": 51,
   "metadata": {},
   "outputs": [
    {
     "name": "stdout",
     "output_type": "stream",
     "text": [
      "[0.80788423 0.80769231 0.80390195 0.7933967  0.79709419]\n"
     ]
    }
   ],
   "source": [
    "print(cv_scores)"
   ]
  },
  {
   "cell_type": "code",
   "execution_count": 52,
   "metadata": {},
   "outputs": [
    {
     "name": "stdout",
     "output_type": "stream",
     "text": [
      "Time elapsed: 7.311830043792725 seconds\n"
     ]
    }
   ],
   "source": [
    "time_start = time.time()\n",
    "\n",
    "sgd_clf.fit(X_train, y_train)\n",
    "\n",
    "print('Time elapsed: {} seconds'.format(time.time()-time_start))"
   ]
  },
  {
   "cell_type": "markdown",
   "metadata": {},
   "source": [
    "**3.1. Predicting Test Dataset**"
   ]
  },
  {
   "cell_type": "code",
   "execution_count": 53,
   "metadata": {},
   "outputs": [
    {
     "name": "stdout",
     "output_type": "stream",
     "text": [
      "Time elapsed: 0.02698683738708496 seconds\n",
      "Test accuracy for SGD: 80.09 %\n"
     ]
    }
   ],
   "source": [
    "time_start = time.time()\n",
    "\n",
    "y_hat_sgd= sgd_clf.predict(X_test)\n",
    "\n",
    "print('Time elapsed: {} seconds'.format(time.time()-time_start))\n",
    "\n",
    "print('Test accuracy for SGD:',\\\n",
    "      round(accuracy_score(y_test, y_hat_sgd)*100,2),'%')"
   ]
  },
  {
   "cell_type": "markdown",
   "metadata": {},
   "source": [
    "**3.3. Trying Different Parameters**"
   ]
  },
  {
   "cell_type": "code",
   "execution_count": 54,
   "metadata": {},
   "outputs": [
    {
     "name": "stdout",
     "output_type": "stream",
     "text": [
      "Time elapsed: 28.4516818523407 seconds\n",
      "SGD mean accuracy: 80.8 %, std 0.005\n"
     ]
    }
   ],
   "source": [
    "sgd_clf = SGDClassifier(loss='hinge',penalty='l2',tol=1E-3)\n",
    "\n",
    "cv_scores=cross_val_score(sgd_clf,X_train, y_train,cv=5)\n",
    "\n",
    "print('Time elapsed: {} seconds'.format(time.time()-time_start))\n",
    "print('SGD mean accuracy:', round(cv_scores.mean()*100,3),'%, std',round(cv_scores.var()*100,3) )"
   ]
  },
  {
   "cell_type": "code",
   "execution_count": 55,
   "metadata": {},
   "outputs": [
    {
     "name": "stdout",
     "output_type": "stream",
     "text": [
      "Time elapsed: 226.28382897377014 seconds\n",
      "SGD mean accuracy: 80.361 %, std 0.007\n"
     ]
    }
   ],
   "source": [
    "sgd_clf = SGDClassifier(loss='hinge',penalty='l1',tol=1E-3)\n",
    "\n",
    "cv_scores=cross_val_score(sgd_clf,X_train, y_train,cv=5)\n",
    "\n",
    "print('Time elapsed: {} seconds'.format(time.time()-time_start))\n",
    "print('SGD mean accuracy:', round(cv_scores.mean()*100,3),'%, std',round(cv_scores.var()*100,3) )"
   ]
  },
  {
   "cell_type": "code",
   "execution_count": 56,
   "metadata": {},
   "outputs": [
    {
     "name": "stdout",
     "output_type": "stream",
     "text": [
      "Time elapsed: 273.8865520954132 seconds\n",
      "SGD mean accuracy: 80.37 %, std 0.004\n"
     ]
    }
   ],
   "source": [
    "sgd_clf = SGDClassifier(loss='log',penalty='l2',tol=1E-3)\n",
    "\n",
    "cv_scores=cross_val_score(sgd_clf,X_train, y_train,cv=5)\n",
    "\n",
    "print('Time elapsed: {} seconds'.format(time.time()-time_start))\n",
    "print('SGD mean accuracy:', round(cv_scores.mean()*100,3),'%, std',round(cv_scores.var()*100,3) )"
   ]
  },
  {
   "cell_type": "code",
   "execution_count": 57,
   "metadata": {},
   "outputs": [
    {
     "name": "stdout",
     "output_type": "stream",
     "text": [
      "Time elapsed: 304.2441415786743 seconds\n",
      "SGD mean accuracy: 78.94 %, std 0.022\n"
     ]
    }
   ],
   "source": [
    "sgd_clf = SGDClassifier(loss='perceptron',penalty='l2',tol=1E-3)\n",
    "\n",
    "cv_scores=cross_val_score(sgd_clf,X_train, y_train,cv=5)\n",
    "\n",
    "print('Time elapsed: {} seconds'.format(time.time()-time_start))\n",
    "print('SGD mean accuracy:', round(cv_scores.mean()*100,3),'%, std',round(cv_scores.var()*100,3) )"
   ]
  },
  {
   "cell_type": "code",
   "execution_count": 58,
   "metadata": {},
   "outputs": [
    {
     "name": "stdout",
     "output_type": "stream",
     "text": [
      "Time elapsed: 342.23735213279724 seconds\n",
      "SGD mean accuracy: 79.371 %, std 0.012\n"
     ]
    }
   ],
   "source": [
    "sgd_clf = SGDClassifier(loss='modified_huber',penalty='l2',tol=0.001)\n",
    "\n",
    "cv_scores=cross_val_score(sgd_clf,X_train, y_train,cv=5)\n",
    "\n",
    "print('Time elapsed: {} seconds'.format(time.time()-time_start))\n",
    "print('SGD mean accuracy:', round(cv_scores.mean()*100,3),'%, std',round(cv_scores.var()*100,3) )"
   ]
  },
  {
   "cell_type": "markdown",
   "metadata": {},
   "source": [
    "**3.4. Random Search**"
   ]
  },
  {
   "cell_type": "code",
   "execution_count": 59,
   "metadata": {},
   "outputs": [
    {
     "name": "stderr",
     "output_type": "stream",
     "text": [
      "C:\\Users\\User\\Machine-Learning\\Install\\lib\\site-packages\\sklearn\\model_selection\\_search.py:266: UserWarning: The total space of parameters 24 is smaller than n_iter=50. Running 24 iterations. For exhaustive searches, use GridSearchCV.\n",
      "  % (grid_size, self.n_iter, grid_size), UserWarning)\n"
     ]
    },
    {
     "name": "stdout",
     "output_type": "stream",
     "text": [
      "Time elapsed: 2141.1119413375854 seconds\n"
     ]
    }
   ],
   "source": [
    "from sklearn.model_selection import RandomizedSearchCV\n",
    "\n",
    "param_dist = {'loss':['hinge','log','perceptron','modified_huber'],\n",
    "              'penalty':['l1','l2'],\n",
    "              'tol':[0.001,0.01,0.1]}\n",
    "\n",
    "time_start = time.time()\n",
    "\n",
    "random_search = RandomizedSearchCV(estimator=sgd_clf, \n",
    "                           param_distributions=param_dist,\n",
    "                           n_iter=50,                     \n",
    "                           scoring='accuracy',\n",
    "                           cv=5)\n",
    "\n",
    "random_search.fit(X_train, y_train)\n",
    "\n",
    "print('Time elapsed: {} seconds'.format(time.time()-time_start))"
   ]
  },
  {
   "cell_type": "code",
   "execution_count": 60,
   "metadata": {},
   "outputs": [
    {
     "name": "stdout",
     "output_type": "stream",
     "text": [
      "{'tol': 0.1, 'penalty': 'l1', 'loss': 'hinge'}\n",
      "\n",
      " SGDClassifier(alpha=0.0001, average=False, class_weight=None,\n",
      "              early_stopping=False, epsilon=0.1, eta0=0.0, fit_intercept=True,\n",
      "              l1_ratio=0.15, learning_rate='optimal', loss='hinge',\n",
      "              max_iter=1000, n_iter_no_change=5, n_jobs=None, penalty='l1',\n",
      "              power_t=0.5, random_state=None, shuffle=True, tol=0.1,\n",
      "              validation_fraction=0.1, verbose=0, warm_start=False)\n"
     ]
    }
   ],
   "source": [
    "print(random_search.best_params_)\n",
    "print(\"\\n\",random_search.best_estimator_)"
   ]
  },
  {
   "cell_type": "markdown",
   "metadata": {},
   "source": [
    "**3.5. Training Model with Best Parameters**"
   ]
  },
  {
   "cell_type": "code",
   "execution_count": 61,
   "metadata": {},
   "outputs": [
    {
     "name": "stdout",
     "output_type": "stream",
     "text": [
      "Time elapsed: 5.167036533355713 seconds\n",
      "Test accuracy for SGDClassifier, using best parameters from random search: 81.19 %\n"
     ]
    }
   ],
   "source": [
    "sgd_clf=SGDClassifier(loss= random_search.best_params_['loss'],\n",
    "                     penalty= random_search.best_params_['penalty'],\n",
    "                    tol= random_search.best_params_['tol'])\n",
    "\n",
    "time_start = time.time()\n",
    "\n",
    "sgd_clf.fit(X_train,y_train)\n",
    "y_hat_sgd = sgd_clf.predict(X_test)\n",
    "\n",
    "print('Time elapsed: {} seconds'.format(time.time()-time_start))\n",
    "print('Test accuracy for SGDClassifier, using best parameters from random search:',\n",
    "      round(accuracy_score(y_test, y_hat_sgd)*100, 2), '%')\n"
   ]
  }
 ],
 "metadata": {
  "kernelspec": {
   "display_name": "Python 3",
   "language": "python",
   "name": "python3"
  },
  "language_info": {
   "codemirror_mode": {
    "name": "ipython",
    "version": 3
   },
   "file_extension": ".py",
   "mimetype": "text/x-python",
   "name": "python",
   "nbconvert_exporter": "python",
   "pygments_lexer": "ipython3",
   "version": "3.7.4"
  }
 },
 "nbformat": 4,
 "nbformat_minor": 2
}
