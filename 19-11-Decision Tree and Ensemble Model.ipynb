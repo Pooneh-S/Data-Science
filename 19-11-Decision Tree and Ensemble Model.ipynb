{
 "cells": [
  {
   "cell_type": "markdown",
   "metadata": {
    "colab_type": "text",
    "id": "9OBvBOCkPrga"
   },
   "source": [
    "## Decision Tree and Ensemble Model"
   ]
  },
  {
   "cell_type": "markdown",
   "metadata": {
    "colab_type": "text",
    "id": "1cUoTzQLPrgc"
   },
   "source": [
    "## Outcomes "
   ]
  },
  {
   "cell_type": "markdown",
   "metadata": {
    "colab_type": "text",
    "id": "Q1ygYVo_Prgc"
   },
   "source": [
    "- Understand how to use decision trees on a Dataset to make a prediction\n",
    "- Learning hyper-parameters tuning for decision trees by using RandomGrid \n",
    "- Learning the effectiveness of ensemble algorithms (Random Forest, Adaboost, Extra trees classifier, Gradient Boosted Tree)"
   ]
  },
  {
   "cell_type": "markdown",
   "metadata": {
    "colab_type": "text",
    "id": "9hjVbQlVPrgd"
   },
   "source": [
    "In the first part of this assignment, you will use Classification Trees for predicting if a user has a default payment option active or not. You can find the necessary data for performing this assignment [here](https://archive.ics.uci.edu/ml/datasets/default+of+credit+card+clients) \n",
    "\n",
    "This dataset is aimed at the case of customer default payments in Taiwan. From the perspective of risk management, the result of predictive accuracy of the estimated probability of default will be more valuable than the binary result of classification - credible or not credible clients. Because the real probability of default is unknown, this study presented the novel Sorting Smoothing Method to estimate the real probability of default.\n",
    "\n",
    "Required imports for this project are given below. Make sure you have all libraries required for this project installed. You may use conda or pip based on your set up.\n",
    "\n",
    "__NOTE:__ Since data is in Excel format you need to install `xlrd` in order to read the excel file inside your pandas dataframe. You can run `pip install xlrd` to install "
   ]
  },
  {
   "cell_type": "code",
   "execution_count": 1,
   "metadata": {
    "colab": {},
    "colab_type": "code",
    "id": "R376ZBnBPrge"
   },
   "outputs": [],
   "source": [
    "#required imports\n",
    "import numpy as np\n",
    "import pandas as pd\n",
    "import random\n",
    "random.seed(42)"
   ]
  },
  {
   "cell_type": "markdown",
   "metadata": {
    "colab_type": "text",
    "id": "ddF9R5pdPrgi"
   },
   "source": [
    "After installing the necessary libraries, proceed to download the data. Since reading the excel file won't create headers by default, we added two more operations to substitute the columns."
   ]
  },
  {
   "cell_type": "code",
   "execution_count": 2,
   "metadata": {
    "colab": {},
    "colab_type": "code",
    "id": "CtNCjjr7Prgj"
   },
   "outputs": [],
   "source": [
    "#loading the data\n",
    "dataset = pd.read_excel(\"https://archive.ics.uci.edu/ml/machine-learning-databases/00350/default%20of%20credit%20card%20clients.xls\")\n",
    "dataset.columns = dataset.iloc[0]\n",
    "dataset.drop(['ID'],axis=1, inplace=True)"
   ]
  },
  {
   "cell_type": "code",
   "execution_count": 3,
   "metadata": {},
   "outputs": [
    {
     "data": {
      "text/plain": [
       "(30001, 24)"
      ]
     },
     "execution_count": 3,
     "metadata": {},
     "output_type": "execute_result"
    }
   ],
   "source": [
    "dataset.shape"
   ]
  },
  {
   "cell_type": "code",
   "execution_count": 4,
   "metadata": {},
   "outputs": [],
   "source": [
    "dataset.drop(0,axis=0, inplace=True)"
   ]
  },
  {
   "cell_type": "markdown",
   "metadata": {
    "colab_type": "text",
    "id": "cMh-sEIdPrgl"
   },
   "source": [
    "In the following, you can take a look into the dataset."
   ]
  },
  {
   "cell_type": "code",
   "execution_count": 5,
   "metadata": {
    "colab": {},
    "colab_type": "code",
    "id": "E0lAPOXQPrgl",
    "outputId": "ea66ba57-f32c-4b39-c60a-e52402acbca1"
   },
   "outputs": [
    {
     "data": {
      "text/html": [
       "<div>\n",
       "<style scoped>\n",
       "    .dataframe tbody tr th:only-of-type {\n",
       "        vertical-align: middle;\n",
       "    }\n",
       "\n",
       "    .dataframe tbody tr th {\n",
       "        vertical-align: top;\n",
       "    }\n",
       "\n",
       "    .dataframe thead th {\n",
       "        text-align: right;\n",
       "    }\n",
       "</style>\n",
       "<table border=\"1\" class=\"dataframe\">\n",
       "  <thead>\n",
       "    <tr style=\"text-align: right;\">\n",
       "      <th></th>\n",
       "      <th>LIMIT_BAL</th>\n",
       "      <th>SEX</th>\n",
       "      <th>EDUCATION</th>\n",
       "      <th>MARRIAGE</th>\n",
       "      <th>AGE</th>\n",
       "      <th>PAY_0</th>\n",
       "      <th>PAY_2</th>\n",
       "      <th>PAY_3</th>\n",
       "      <th>PAY_4</th>\n",
       "      <th>PAY_5</th>\n",
       "      <th>...</th>\n",
       "      <th>BILL_AMT4</th>\n",
       "      <th>BILL_AMT5</th>\n",
       "      <th>BILL_AMT6</th>\n",
       "      <th>PAY_AMT1</th>\n",
       "      <th>PAY_AMT2</th>\n",
       "      <th>PAY_AMT3</th>\n",
       "      <th>PAY_AMT4</th>\n",
       "      <th>PAY_AMT5</th>\n",
       "      <th>PAY_AMT6</th>\n",
       "      <th>default payment next month</th>\n",
       "    </tr>\n",
       "  </thead>\n",
       "  <tbody>\n",
       "    <tr>\n",
       "      <td>1</td>\n",
       "      <td>20000</td>\n",
       "      <td>2</td>\n",
       "      <td>2</td>\n",
       "      <td>1</td>\n",
       "      <td>24</td>\n",
       "      <td>2</td>\n",
       "      <td>2</td>\n",
       "      <td>-1</td>\n",
       "      <td>-1</td>\n",
       "      <td>-2</td>\n",
       "      <td>...</td>\n",
       "      <td>0</td>\n",
       "      <td>0</td>\n",
       "      <td>0</td>\n",
       "      <td>0</td>\n",
       "      <td>689</td>\n",
       "      <td>0</td>\n",
       "      <td>0</td>\n",
       "      <td>0</td>\n",
       "      <td>0</td>\n",
       "      <td>1</td>\n",
       "    </tr>\n",
       "    <tr>\n",
       "      <td>2</td>\n",
       "      <td>120000</td>\n",
       "      <td>2</td>\n",
       "      <td>2</td>\n",
       "      <td>2</td>\n",
       "      <td>26</td>\n",
       "      <td>-1</td>\n",
       "      <td>2</td>\n",
       "      <td>0</td>\n",
       "      <td>0</td>\n",
       "      <td>0</td>\n",
       "      <td>...</td>\n",
       "      <td>3272</td>\n",
       "      <td>3455</td>\n",
       "      <td>3261</td>\n",
       "      <td>0</td>\n",
       "      <td>1000</td>\n",
       "      <td>1000</td>\n",
       "      <td>1000</td>\n",
       "      <td>0</td>\n",
       "      <td>2000</td>\n",
       "      <td>1</td>\n",
       "    </tr>\n",
       "    <tr>\n",
       "      <td>3</td>\n",
       "      <td>90000</td>\n",
       "      <td>2</td>\n",
       "      <td>2</td>\n",
       "      <td>2</td>\n",
       "      <td>34</td>\n",
       "      <td>0</td>\n",
       "      <td>0</td>\n",
       "      <td>0</td>\n",
       "      <td>0</td>\n",
       "      <td>0</td>\n",
       "      <td>...</td>\n",
       "      <td>14331</td>\n",
       "      <td>14948</td>\n",
       "      <td>15549</td>\n",
       "      <td>1518</td>\n",
       "      <td>1500</td>\n",
       "      <td>1000</td>\n",
       "      <td>1000</td>\n",
       "      <td>1000</td>\n",
       "      <td>5000</td>\n",
       "      <td>0</td>\n",
       "    </tr>\n",
       "    <tr>\n",
       "      <td>4</td>\n",
       "      <td>50000</td>\n",
       "      <td>2</td>\n",
       "      <td>2</td>\n",
       "      <td>1</td>\n",
       "      <td>37</td>\n",
       "      <td>0</td>\n",
       "      <td>0</td>\n",
       "      <td>0</td>\n",
       "      <td>0</td>\n",
       "      <td>0</td>\n",
       "      <td>...</td>\n",
       "      <td>28314</td>\n",
       "      <td>28959</td>\n",
       "      <td>29547</td>\n",
       "      <td>2000</td>\n",
       "      <td>2019</td>\n",
       "      <td>1200</td>\n",
       "      <td>1100</td>\n",
       "      <td>1069</td>\n",
       "      <td>1000</td>\n",
       "      <td>0</td>\n",
       "    </tr>\n",
       "    <tr>\n",
       "      <td>5</td>\n",
       "      <td>50000</td>\n",
       "      <td>1</td>\n",
       "      <td>2</td>\n",
       "      <td>1</td>\n",
       "      <td>57</td>\n",
       "      <td>-1</td>\n",
       "      <td>0</td>\n",
       "      <td>-1</td>\n",
       "      <td>0</td>\n",
       "      <td>0</td>\n",
       "      <td>...</td>\n",
       "      <td>20940</td>\n",
       "      <td>19146</td>\n",
       "      <td>19131</td>\n",
       "      <td>2000</td>\n",
       "      <td>36681</td>\n",
       "      <td>10000</td>\n",
       "      <td>9000</td>\n",
       "      <td>689</td>\n",
       "      <td>679</td>\n",
       "      <td>0</td>\n",
       "    </tr>\n",
       "    <tr>\n",
       "      <td>6</td>\n",
       "      <td>50000</td>\n",
       "      <td>1</td>\n",
       "      <td>1</td>\n",
       "      <td>2</td>\n",
       "      <td>37</td>\n",
       "      <td>0</td>\n",
       "      <td>0</td>\n",
       "      <td>0</td>\n",
       "      <td>0</td>\n",
       "      <td>0</td>\n",
       "      <td>...</td>\n",
       "      <td>19394</td>\n",
       "      <td>19619</td>\n",
       "      <td>20024</td>\n",
       "      <td>2500</td>\n",
       "      <td>1815</td>\n",
       "      <td>657</td>\n",
       "      <td>1000</td>\n",
       "      <td>1000</td>\n",
       "      <td>800</td>\n",
       "      <td>0</td>\n",
       "    </tr>\n",
       "    <tr>\n",
       "      <td>7</td>\n",
       "      <td>500000</td>\n",
       "      <td>1</td>\n",
       "      <td>1</td>\n",
       "      <td>2</td>\n",
       "      <td>29</td>\n",
       "      <td>0</td>\n",
       "      <td>0</td>\n",
       "      <td>0</td>\n",
       "      <td>0</td>\n",
       "      <td>0</td>\n",
       "      <td>...</td>\n",
       "      <td>542653</td>\n",
       "      <td>483003</td>\n",
       "      <td>473944</td>\n",
       "      <td>55000</td>\n",
       "      <td>40000</td>\n",
       "      <td>38000</td>\n",
       "      <td>20239</td>\n",
       "      <td>13750</td>\n",
       "      <td>13770</td>\n",
       "      <td>0</td>\n",
       "    </tr>\n",
       "    <tr>\n",
       "      <td>8</td>\n",
       "      <td>100000</td>\n",
       "      <td>2</td>\n",
       "      <td>2</td>\n",
       "      <td>2</td>\n",
       "      <td>23</td>\n",
       "      <td>0</td>\n",
       "      <td>-1</td>\n",
       "      <td>-1</td>\n",
       "      <td>0</td>\n",
       "      <td>0</td>\n",
       "      <td>...</td>\n",
       "      <td>221</td>\n",
       "      <td>-159</td>\n",
       "      <td>567</td>\n",
       "      <td>380</td>\n",
       "      <td>601</td>\n",
       "      <td>0</td>\n",
       "      <td>581</td>\n",
       "      <td>1687</td>\n",
       "      <td>1542</td>\n",
       "      <td>0</td>\n",
       "    </tr>\n",
       "    <tr>\n",
       "      <td>9</td>\n",
       "      <td>140000</td>\n",
       "      <td>2</td>\n",
       "      <td>3</td>\n",
       "      <td>1</td>\n",
       "      <td>28</td>\n",
       "      <td>0</td>\n",
       "      <td>0</td>\n",
       "      <td>2</td>\n",
       "      <td>0</td>\n",
       "      <td>0</td>\n",
       "      <td>...</td>\n",
       "      <td>12211</td>\n",
       "      <td>11793</td>\n",
       "      <td>3719</td>\n",
       "      <td>3329</td>\n",
       "      <td>0</td>\n",
       "      <td>432</td>\n",
       "      <td>1000</td>\n",
       "      <td>1000</td>\n",
       "      <td>1000</td>\n",
       "      <td>0</td>\n",
       "    </tr>\n",
       "    <tr>\n",
       "      <td>10</td>\n",
       "      <td>20000</td>\n",
       "      <td>1</td>\n",
       "      <td>3</td>\n",
       "      <td>2</td>\n",
       "      <td>35</td>\n",
       "      <td>-2</td>\n",
       "      <td>-2</td>\n",
       "      <td>-2</td>\n",
       "      <td>-2</td>\n",
       "      <td>-1</td>\n",
       "      <td>...</td>\n",
       "      <td>0</td>\n",
       "      <td>13007</td>\n",
       "      <td>13912</td>\n",
       "      <td>0</td>\n",
       "      <td>0</td>\n",
       "      <td>0</td>\n",
       "      <td>13007</td>\n",
       "      <td>1122</td>\n",
       "      <td>0</td>\n",
       "      <td>0</td>\n",
       "    </tr>\n",
       "  </tbody>\n",
       "</table>\n",
       "<p>10 rows × 24 columns</p>\n",
       "</div>"
      ],
      "text/plain": [
       "0  LIMIT_BAL SEX EDUCATION MARRIAGE AGE PAY_0 PAY_2 PAY_3 PAY_4 PAY_5  ...  \\\n",
       "1      20000   2         2        1  24     2     2    -1    -1    -2  ...   \n",
       "2     120000   2         2        2  26    -1     2     0     0     0  ...   \n",
       "3      90000   2         2        2  34     0     0     0     0     0  ...   \n",
       "4      50000   2         2        1  37     0     0     0     0     0  ...   \n",
       "5      50000   1         2        1  57    -1     0    -1     0     0  ...   \n",
       "6      50000   1         1        2  37     0     0     0     0     0  ...   \n",
       "7     500000   1         1        2  29     0     0     0     0     0  ...   \n",
       "8     100000   2         2        2  23     0    -1    -1     0     0  ...   \n",
       "9     140000   2         3        1  28     0     0     2     0     0  ...   \n",
       "10     20000   1         3        2  35    -2    -2    -2    -2    -1  ...   \n",
       "\n",
       "0  BILL_AMT4 BILL_AMT5 BILL_AMT6 PAY_AMT1 PAY_AMT2 PAY_AMT3 PAY_AMT4 PAY_AMT5  \\\n",
       "1          0         0         0        0      689        0        0        0   \n",
       "2       3272      3455      3261        0     1000     1000     1000        0   \n",
       "3      14331     14948     15549     1518     1500     1000     1000     1000   \n",
       "4      28314     28959     29547     2000     2019     1200     1100     1069   \n",
       "5      20940     19146     19131     2000    36681    10000     9000      689   \n",
       "6      19394     19619     20024     2500     1815      657     1000     1000   \n",
       "7     542653    483003    473944    55000    40000    38000    20239    13750   \n",
       "8        221      -159       567      380      601        0      581     1687   \n",
       "9      12211     11793      3719     3329        0      432     1000     1000   \n",
       "10         0     13007     13912        0        0        0    13007     1122   \n",
       "\n",
       "0  PAY_AMT6 default payment next month  \n",
       "1         0                          1  \n",
       "2      2000                          1  \n",
       "3      5000                          0  \n",
       "4      1000                          0  \n",
       "5       679                          0  \n",
       "6       800                          0  \n",
       "7     13770                          0  \n",
       "8      1542                          0  \n",
       "9      1000                          0  \n",
       "10        0                          0  \n",
       "\n",
       "[10 rows x 24 columns]"
      ]
     },
     "execution_count": 5,
     "metadata": {},
     "output_type": "execute_result"
    }
   ],
   "source": [
    "dataset.head(10)"
   ]
  },
  {
   "cell_type": "code",
   "execution_count": 6,
   "metadata": {},
   "outputs": [
    {
     "data": {
      "text/html": [
       "<div>\n",
       "<style scoped>\n",
       "    .dataframe tbody tr th:only-of-type {\n",
       "        vertical-align: middle;\n",
       "    }\n",
       "\n",
       "    .dataframe tbody tr th {\n",
       "        vertical-align: top;\n",
       "    }\n",
       "\n",
       "    .dataframe thead th {\n",
       "        text-align: right;\n",
       "    }\n",
       "</style>\n",
       "<table border=\"1\" class=\"dataframe\">\n",
       "  <thead>\n",
       "    <tr style=\"text-align: right;\">\n",
       "      <th></th>\n",
       "      <th>LIMIT_BAL</th>\n",
       "      <th>SEX</th>\n",
       "      <th>EDUCATION</th>\n",
       "      <th>MARRIAGE</th>\n",
       "      <th>AGE</th>\n",
       "      <th>PAY_0</th>\n",
       "      <th>PAY_2</th>\n",
       "      <th>PAY_3</th>\n",
       "      <th>PAY_4</th>\n",
       "      <th>PAY_5</th>\n",
       "      <th>...</th>\n",
       "      <th>BILL_AMT4</th>\n",
       "      <th>BILL_AMT5</th>\n",
       "      <th>BILL_AMT6</th>\n",
       "      <th>PAY_AMT1</th>\n",
       "      <th>PAY_AMT2</th>\n",
       "      <th>PAY_AMT3</th>\n",
       "      <th>PAY_AMT4</th>\n",
       "      <th>PAY_AMT5</th>\n",
       "      <th>PAY_AMT6</th>\n",
       "      <th>Default</th>\n",
       "    </tr>\n",
       "  </thead>\n",
       "  <tbody>\n",
       "    <tr>\n",
       "      <td>count</td>\n",
       "      <td>30000</td>\n",
       "      <td>30000</td>\n",
       "      <td>30000</td>\n",
       "      <td>30000</td>\n",
       "      <td>30000</td>\n",
       "      <td>30000</td>\n",
       "      <td>30000</td>\n",
       "      <td>30000</td>\n",
       "      <td>30000</td>\n",
       "      <td>30000</td>\n",
       "      <td>...</td>\n",
       "      <td>30000</td>\n",
       "      <td>30000</td>\n",
       "      <td>30000</td>\n",
       "      <td>30000</td>\n",
       "      <td>30000</td>\n",
       "      <td>30000</td>\n",
       "      <td>30000</td>\n",
       "      <td>30000</td>\n",
       "      <td>30000</td>\n",
       "      <td>30000</td>\n",
       "    </tr>\n",
       "    <tr>\n",
       "      <td>unique</td>\n",
       "      <td>81</td>\n",
       "      <td>2</td>\n",
       "      <td>7</td>\n",
       "      <td>4</td>\n",
       "      <td>56</td>\n",
       "      <td>11</td>\n",
       "      <td>11</td>\n",
       "      <td>11</td>\n",
       "      <td>11</td>\n",
       "      <td>10</td>\n",
       "      <td>...</td>\n",
       "      <td>21548</td>\n",
       "      <td>21010</td>\n",
       "      <td>20604</td>\n",
       "      <td>7943</td>\n",
       "      <td>7899</td>\n",
       "      <td>7518</td>\n",
       "      <td>6937</td>\n",
       "      <td>6897</td>\n",
       "      <td>6939</td>\n",
       "      <td>2</td>\n",
       "    </tr>\n",
       "    <tr>\n",
       "      <td>top</td>\n",
       "      <td>50000</td>\n",
       "      <td>2</td>\n",
       "      <td>2</td>\n",
       "      <td>2</td>\n",
       "      <td>29</td>\n",
       "      <td>0</td>\n",
       "      <td>0</td>\n",
       "      <td>0</td>\n",
       "      <td>0</td>\n",
       "      <td>0</td>\n",
       "      <td>...</td>\n",
       "      <td>0</td>\n",
       "      <td>0</td>\n",
       "      <td>0</td>\n",
       "      <td>0</td>\n",
       "      <td>0</td>\n",
       "      <td>0</td>\n",
       "      <td>0</td>\n",
       "      <td>0</td>\n",
       "      <td>0</td>\n",
       "      <td>0</td>\n",
       "    </tr>\n",
       "    <tr>\n",
       "      <td>freq</td>\n",
       "      <td>3365</td>\n",
       "      <td>18112</td>\n",
       "      <td>14030</td>\n",
       "      <td>15964</td>\n",
       "      <td>1605</td>\n",
       "      <td>14737</td>\n",
       "      <td>15730</td>\n",
       "      <td>15764</td>\n",
       "      <td>16455</td>\n",
       "      <td>16947</td>\n",
       "      <td>...</td>\n",
       "      <td>3195</td>\n",
       "      <td>3506</td>\n",
       "      <td>4020</td>\n",
       "      <td>5249</td>\n",
       "      <td>5396</td>\n",
       "      <td>5968</td>\n",
       "      <td>6408</td>\n",
       "      <td>6703</td>\n",
       "      <td>7173</td>\n",
       "      <td>23364</td>\n",
       "    </tr>\n",
       "  </tbody>\n",
       "</table>\n",
       "<p>4 rows × 24 columns</p>\n",
       "</div>"
      ],
      "text/plain": [
       "0       LIMIT_BAL    SEX  EDUCATION  MARRIAGE    AGE  PAY_0  PAY_2  PAY_3  \\\n",
       "count       30000  30000      30000     30000  30000  30000  30000  30000   \n",
       "unique         81      2          7         4     56     11     11     11   \n",
       "top         50000      2          2         2     29      0      0      0   \n",
       "freq         3365  18112      14030     15964   1605  14737  15730  15764   \n",
       "\n",
       "0       PAY_4  PAY_5  ...  BILL_AMT4  BILL_AMT5  BILL_AMT6  PAY_AMT1  \\\n",
       "count   30000  30000  ...      30000      30000      30000     30000   \n",
       "unique     11     10  ...      21548      21010      20604      7943   \n",
       "top         0      0  ...          0          0          0         0   \n",
       "freq    16455  16947  ...       3195       3506       4020      5249   \n",
       "\n",
       "0       PAY_AMT2  PAY_AMT3  PAY_AMT4  PAY_AMT5  PAY_AMT6  Default  \n",
       "count      30000     30000     30000     30000     30000    30000  \n",
       "unique      7899      7518      6937      6897      6939        2  \n",
       "top            0         0         0         0         0        0  \n",
       "freq        5396      5968      6408      6703      7173    23364  \n",
       "\n",
       "[4 rows x 24 columns]"
      ]
     },
     "execution_count": 6,
     "metadata": {},
     "output_type": "execute_result"
    }
   ],
   "source": [
    "dataset.rename(columns={'default payment next month':\"Default\"},inplace=True)\n",
    "dataset.describe()"
   ]
  },
  {
   "cell_type": "code",
   "execution_count": 7,
   "metadata": {},
   "outputs": [
    {
     "name": "stdout",
     "output_type": "stream",
     "text": [
      "<class 'pandas.core.frame.DataFrame'>\n",
      "Int64Index: 30000 entries, 1 to 30000\n",
      "Data columns (total 24 columns):\n",
      "LIMIT_BAL    30000 non-null object\n",
      "SEX          30000 non-null object\n",
      "EDUCATION    30000 non-null object\n",
      "MARRIAGE     30000 non-null object\n",
      "AGE          30000 non-null object\n",
      "PAY_0        30000 non-null object\n",
      "PAY_2        30000 non-null object\n",
      "PAY_3        30000 non-null object\n",
      "PAY_4        30000 non-null object\n",
      "PAY_5        30000 non-null object\n",
      "PAY_6        30000 non-null object\n",
      "BILL_AMT1    30000 non-null object\n",
      "BILL_AMT2    30000 non-null object\n",
      "BILL_AMT3    30000 non-null object\n",
      "BILL_AMT4    30000 non-null object\n",
      "BILL_AMT5    30000 non-null object\n",
      "BILL_AMT6    30000 non-null object\n",
      "PAY_AMT1     30000 non-null object\n",
      "PAY_AMT2     30000 non-null object\n",
      "PAY_AMT3     30000 non-null object\n",
      "PAY_AMT4     30000 non-null object\n",
      "PAY_AMT5     30000 non-null object\n",
      "PAY_AMT6     30000 non-null object\n",
      "Default      30000 non-null object\n",
      "dtypes: object(24)\n",
      "memory usage: 5.7+ MB\n"
     ]
    }
   ],
   "source": [
    "dataset.info()"
   ]
  },
  {
   "cell_type": "code",
   "execution_count": 8,
   "metadata": {},
   "outputs": [],
   "source": [
    "dataset=dataset.astype('int')"
   ]
  },
  {
   "cell_type": "code",
   "execution_count": 9,
   "metadata": {},
   "outputs": [
    {
     "data": {
      "text/html": [
       "<div>\n",
       "<style scoped>\n",
       "    .dataframe tbody tr th:only-of-type {\n",
       "        vertical-align: middle;\n",
       "    }\n",
       "\n",
       "    .dataframe tbody tr th {\n",
       "        vertical-align: top;\n",
       "    }\n",
       "\n",
       "    .dataframe thead th {\n",
       "        text-align: right;\n",
       "    }\n",
       "</style>\n",
       "<table border=\"1\" class=\"dataframe\">\n",
       "  <thead>\n",
       "    <tr style=\"text-align: right;\">\n",
       "      <th></th>\n",
       "      <th>LIMIT_BAL</th>\n",
       "      <th>SEX</th>\n",
       "      <th>EDUCATION</th>\n",
       "      <th>MARRIAGE</th>\n",
       "      <th>AGE</th>\n",
       "      <th>PAY_0</th>\n",
       "      <th>PAY_2</th>\n",
       "      <th>PAY_3</th>\n",
       "      <th>PAY_4</th>\n",
       "      <th>PAY_5</th>\n",
       "      <th>...</th>\n",
       "      <th>BILL_AMT4</th>\n",
       "      <th>BILL_AMT5</th>\n",
       "      <th>BILL_AMT6</th>\n",
       "      <th>PAY_AMT1</th>\n",
       "      <th>PAY_AMT2</th>\n",
       "      <th>PAY_AMT3</th>\n",
       "      <th>PAY_AMT4</th>\n",
       "      <th>PAY_AMT5</th>\n",
       "      <th>PAY_AMT6</th>\n",
       "      <th>Default</th>\n",
       "    </tr>\n",
       "  </thead>\n",
       "  <tbody>\n",
       "    <tr>\n",
       "      <td>count</td>\n",
       "      <td>30000.000000</td>\n",
       "      <td>30000.000000</td>\n",
       "      <td>30000.000000</td>\n",
       "      <td>30000.000000</td>\n",
       "      <td>30000.000000</td>\n",
       "      <td>30000.000000</td>\n",
       "      <td>30000.000000</td>\n",
       "      <td>30000.000000</td>\n",
       "      <td>30000.000000</td>\n",
       "      <td>30000.000000</td>\n",
       "      <td>...</td>\n",
       "      <td>30000.000000</td>\n",
       "      <td>30000.000000</td>\n",
       "      <td>30000.000000</td>\n",
       "      <td>30000.000000</td>\n",
       "      <td>3.000000e+04</td>\n",
       "      <td>30000.00000</td>\n",
       "      <td>30000.000000</td>\n",
       "      <td>30000.000000</td>\n",
       "      <td>30000.000000</td>\n",
       "      <td>30000.000000</td>\n",
       "    </tr>\n",
       "    <tr>\n",
       "      <td>mean</td>\n",
       "      <td>167484.322667</td>\n",
       "      <td>1.603733</td>\n",
       "      <td>1.853133</td>\n",
       "      <td>1.551867</td>\n",
       "      <td>35.485500</td>\n",
       "      <td>-0.016700</td>\n",
       "      <td>-0.133767</td>\n",
       "      <td>-0.166200</td>\n",
       "      <td>-0.220667</td>\n",
       "      <td>-0.266200</td>\n",
       "      <td>...</td>\n",
       "      <td>43262.948967</td>\n",
       "      <td>40311.400967</td>\n",
       "      <td>38871.760400</td>\n",
       "      <td>5663.580500</td>\n",
       "      <td>5.921163e+03</td>\n",
       "      <td>5225.68150</td>\n",
       "      <td>4826.076867</td>\n",
       "      <td>4799.387633</td>\n",
       "      <td>5215.502567</td>\n",
       "      <td>0.221200</td>\n",
       "    </tr>\n",
       "    <tr>\n",
       "      <td>std</td>\n",
       "      <td>129747.661567</td>\n",
       "      <td>0.489129</td>\n",
       "      <td>0.790349</td>\n",
       "      <td>0.521970</td>\n",
       "      <td>9.217904</td>\n",
       "      <td>1.123802</td>\n",
       "      <td>1.197186</td>\n",
       "      <td>1.196868</td>\n",
       "      <td>1.169139</td>\n",
       "      <td>1.133187</td>\n",
       "      <td>...</td>\n",
       "      <td>64332.856134</td>\n",
       "      <td>60797.155770</td>\n",
       "      <td>59554.107537</td>\n",
       "      <td>16563.280354</td>\n",
       "      <td>2.304087e+04</td>\n",
       "      <td>17606.96147</td>\n",
       "      <td>15666.159744</td>\n",
       "      <td>15278.305679</td>\n",
       "      <td>17777.465775</td>\n",
       "      <td>0.415062</td>\n",
       "    </tr>\n",
       "    <tr>\n",
       "      <td>min</td>\n",
       "      <td>10000.000000</td>\n",
       "      <td>1.000000</td>\n",
       "      <td>0.000000</td>\n",
       "      <td>0.000000</td>\n",
       "      <td>21.000000</td>\n",
       "      <td>-2.000000</td>\n",
       "      <td>-2.000000</td>\n",
       "      <td>-2.000000</td>\n",
       "      <td>-2.000000</td>\n",
       "      <td>-2.000000</td>\n",
       "      <td>...</td>\n",
       "      <td>-170000.000000</td>\n",
       "      <td>-81334.000000</td>\n",
       "      <td>-339603.000000</td>\n",
       "      <td>0.000000</td>\n",
       "      <td>0.000000e+00</td>\n",
       "      <td>0.00000</td>\n",
       "      <td>0.000000</td>\n",
       "      <td>0.000000</td>\n",
       "      <td>0.000000</td>\n",
       "      <td>0.000000</td>\n",
       "    </tr>\n",
       "    <tr>\n",
       "      <td>25%</td>\n",
       "      <td>50000.000000</td>\n",
       "      <td>1.000000</td>\n",
       "      <td>1.000000</td>\n",
       "      <td>1.000000</td>\n",
       "      <td>28.000000</td>\n",
       "      <td>-1.000000</td>\n",
       "      <td>-1.000000</td>\n",
       "      <td>-1.000000</td>\n",
       "      <td>-1.000000</td>\n",
       "      <td>-1.000000</td>\n",
       "      <td>...</td>\n",
       "      <td>2326.750000</td>\n",
       "      <td>1763.000000</td>\n",
       "      <td>1256.000000</td>\n",
       "      <td>1000.000000</td>\n",
       "      <td>8.330000e+02</td>\n",
       "      <td>390.00000</td>\n",
       "      <td>296.000000</td>\n",
       "      <td>252.500000</td>\n",
       "      <td>117.750000</td>\n",
       "      <td>0.000000</td>\n",
       "    </tr>\n",
       "    <tr>\n",
       "      <td>50%</td>\n",
       "      <td>140000.000000</td>\n",
       "      <td>2.000000</td>\n",
       "      <td>2.000000</td>\n",
       "      <td>2.000000</td>\n",
       "      <td>34.000000</td>\n",
       "      <td>0.000000</td>\n",
       "      <td>0.000000</td>\n",
       "      <td>0.000000</td>\n",
       "      <td>0.000000</td>\n",
       "      <td>0.000000</td>\n",
       "      <td>...</td>\n",
       "      <td>19052.000000</td>\n",
       "      <td>18104.500000</td>\n",
       "      <td>17071.000000</td>\n",
       "      <td>2100.000000</td>\n",
       "      <td>2.009000e+03</td>\n",
       "      <td>1800.00000</td>\n",
       "      <td>1500.000000</td>\n",
       "      <td>1500.000000</td>\n",
       "      <td>1500.000000</td>\n",
       "      <td>0.000000</td>\n",
       "    </tr>\n",
       "    <tr>\n",
       "      <td>75%</td>\n",
       "      <td>240000.000000</td>\n",
       "      <td>2.000000</td>\n",
       "      <td>2.000000</td>\n",
       "      <td>2.000000</td>\n",
       "      <td>41.000000</td>\n",
       "      <td>0.000000</td>\n",
       "      <td>0.000000</td>\n",
       "      <td>0.000000</td>\n",
       "      <td>0.000000</td>\n",
       "      <td>0.000000</td>\n",
       "      <td>...</td>\n",
       "      <td>54506.000000</td>\n",
       "      <td>50190.500000</td>\n",
       "      <td>49198.250000</td>\n",
       "      <td>5006.000000</td>\n",
       "      <td>5.000000e+03</td>\n",
       "      <td>4505.00000</td>\n",
       "      <td>4013.250000</td>\n",
       "      <td>4031.500000</td>\n",
       "      <td>4000.000000</td>\n",
       "      <td>0.000000</td>\n",
       "    </tr>\n",
       "    <tr>\n",
       "      <td>max</td>\n",
       "      <td>1000000.000000</td>\n",
       "      <td>2.000000</td>\n",
       "      <td>6.000000</td>\n",
       "      <td>3.000000</td>\n",
       "      <td>79.000000</td>\n",
       "      <td>8.000000</td>\n",
       "      <td>8.000000</td>\n",
       "      <td>8.000000</td>\n",
       "      <td>8.000000</td>\n",
       "      <td>8.000000</td>\n",
       "      <td>...</td>\n",
       "      <td>891586.000000</td>\n",
       "      <td>927171.000000</td>\n",
       "      <td>961664.000000</td>\n",
       "      <td>873552.000000</td>\n",
       "      <td>1.684259e+06</td>\n",
       "      <td>896040.00000</td>\n",
       "      <td>621000.000000</td>\n",
       "      <td>426529.000000</td>\n",
       "      <td>528666.000000</td>\n",
       "      <td>1.000000</td>\n",
       "    </tr>\n",
       "  </tbody>\n",
       "</table>\n",
       "<p>8 rows × 24 columns</p>\n",
       "</div>"
      ],
      "text/plain": [
       "0           LIMIT_BAL           SEX     EDUCATION      MARRIAGE           AGE  \\\n",
       "count    30000.000000  30000.000000  30000.000000  30000.000000  30000.000000   \n",
       "mean    167484.322667      1.603733      1.853133      1.551867     35.485500   \n",
       "std     129747.661567      0.489129      0.790349      0.521970      9.217904   \n",
       "min      10000.000000      1.000000      0.000000      0.000000     21.000000   \n",
       "25%      50000.000000      1.000000      1.000000      1.000000     28.000000   \n",
       "50%     140000.000000      2.000000      2.000000      2.000000     34.000000   \n",
       "75%     240000.000000      2.000000      2.000000      2.000000     41.000000   \n",
       "max    1000000.000000      2.000000      6.000000      3.000000     79.000000   \n",
       "\n",
       "0             PAY_0         PAY_2         PAY_3         PAY_4         PAY_5  \\\n",
       "count  30000.000000  30000.000000  30000.000000  30000.000000  30000.000000   \n",
       "mean      -0.016700     -0.133767     -0.166200     -0.220667     -0.266200   \n",
       "std        1.123802      1.197186      1.196868      1.169139      1.133187   \n",
       "min       -2.000000     -2.000000     -2.000000     -2.000000     -2.000000   \n",
       "25%       -1.000000     -1.000000     -1.000000     -1.000000     -1.000000   \n",
       "50%        0.000000      0.000000      0.000000      0.000000      0.000000   \n",
       "75%        0.000000      0.000000      0.000000      0.000000      0.000000   \n",
       "max        8.000000      8.000000      8.000000      8.000000      8.000000   \n",
       "\n",
       "0      ...      BILL_AMT4      BILL_AMT5      BILL_AMT6       PAY_AMT1  \\\n",
       "count  ...   30000.000000   30000.000000   30000.000000   30000.000000   \n",
       "mean   ...   43262.948967   40311.400967   38871.760400    5663.580500   \n",
       "std    ...   64332.856134   60797.155770   59554.107537   16563.280354   \n",
       "min    ... -170000.000000  -81334.000000 -339603.000000       0.000000   \n",
       "25%    ...    2326.750000    1763.000000    1256.000000    1000.000000   \n",
       "50%    ...   19052.000000   18104.500000   17071.000000    2100.000000   \n",
       "75%    ...   54506.000000   50190.500000   49198.250000    5006.000000   \n",
       "max    ...  891586.000000  927171.000000  961664.000000  873552.000000   \n",
       "\n",
       "0          PAY_AMT2      PAY_AMT3       PAY_AMT4       PAY_AMT5  \\\n",
       "count  3.000000e+04   30000.00000   30000.000000   30000.000000   \n",
       "mean   5.921163e+03    5225.68150    4826.076867    4799.387633   \n",
       "std    2.304087e+04   17606.96147   15666.159744   15278.305679   \n",
       "min    0.000000e+00       0.00000       0.000000       0.000000   \n",
       "25%    8.330000e+02     390.00000     296.000000     252.500000   \n",
       "50%    2.009000e+03    1800.00000    1500.000000    1500.000000   \n",
       "75%    5.000000e+03    4505.00000    4013.250000    4031.500000   \n",
       "max    1.684259e+06  896040.00000  621000.000000  426529.000000   \n",
       "\n",
       "0           PAY_AMT6       Default  \n",
       "count   30000.000000  30000.000000  \n",
       "mean     5215.502567      0.221200  \n",
       "std     17777.465775      0.415062  \n",
       "min         0.000000      0.000000  \n",
       "25%       117.750000      0.000000  \n",
       "50%      1500.000000      0.000000  \n",
       "75%      4000.000000      0.000000  \n",
       "max    528666.000000      1.000000  \n",
       "\n",
       "[8 rows x 24 columns]"
      ]
     },
     "execution_count": 9,
     "metadata": {},
     "output_type": "execute_result"
    }
   ],
   "source": [
    "dataset.describe()"
   ]
  },
  {
   "cell_type": "markdown",
   "metadata": {},
   "source": [
    "**Transformation pipelines**"
   ]
  },
  {
   "cell_type": "code",
   "execution_count": 10,
   "metadata": {},
   "outputs": [],
   "source": [
    "column_stat=['LIMIT_BAL','SEX','EDUCATION','MARRIAGE','AGE']\n",
    "column_pay=['PAY_0','PAY_2','PAY_3','PAY_4','PAY_5','PAY_6']\n",
    "column_bill=['BILL_AMT1','BILL_AMT2','BILL_AMT3','BILL_AMT4','BILL_AMT5','BILL_AMT6']\n",
    "column_amt=['PAY_AMT1','PAY_AMT2','PAY_AMT3','PAY_AMT4','PAY_AMT5','PAY_AMT6']\n",
    "\n",
    "\n",
    "# Grouping the categorical and discrete features\n",
    "column_default=['Default']\n",
    "categorical_vars=['SEX','EDUCATION','MARRIAGE']+column_pay\n",
    "discrete_vars=['LIMIT_BAL']+column_bill+column_amt"
   ]
  },
  {
   "cell_type": "code",
   "execution_count": 11,
   "metadata": {},
   "outputs": [],
   "source": [
    "from sklearn.compose import ColumnTransformer\n",
    "from sklearn.pipeline import Pipeline\n",
    "from sklearn.preprocessing import MinMaxScaler\n",
    "from sklearn.preprocessing import OneHotEncoder"
   ]
  },
  {
   "cell_type": "markdown",
   "metadata": {},
   "source": [
    "To transform the features, OneHotEncoder is used for categorical data and MinMaxScaler is used for descrete data."
   ]
  },
  {
   "cell_type": "code",
   "execution_count": 12,
   "metadata": {},
   "outputs": [],
   "source": [
    "# Categorical -  one hot encode\n",
    "cat_pipe = Pipeline([('ohe', OneHotEncoder(sparse=False, handle_unknown='ignore'))])\n",
    "cat_transformers = [('cat', cat_pipe, categorical_vars)]\n",
    "\n",
    "# Numerical -  scale\n",
    "num_pipe = Pipeline([ ('scl', MinMaxScaler())])\n",
    "num_transformers = [('num', num_pipe, discrete_vars)]"
   ]
  },
  {
   "cell_type": "code",
   "execution_count": 13,
   "metadata": {},
   "outputs": [],
   "source": [
    "ct = ColumnTransformer(transformers=cat_transformers + num_transformers)\n",
    "\n",
    "X = ct.fit_transform(dataset[categorical_vars + discrete_vars])\n",
    "y = dataset.Default"
   ]
  },
  {
   "cell_type": "markdown",
   "metadata": {
    "colab_type": "text",
    "id": "r4jchSRoPrgr"
   },
   "source": [
    "## Questions (15 points total)\n",
    "\n",
    "#### Question 1 (2 pts)\n",
    "Build a classifier by using decision tree and calculate the confusion matrix. Try different hyper-parameters (at least two) and discuss the result."
   ]
  },
  {
   "cell_type": "markdown",
   "metadata": {},
   "source": [
    "**Spliting the data**"
   ]
  },
  {
   "cell_type": "code",
   "execution_count": 14,
   "metadata": {},
   "outputs": [
    {
     "name": "stdout",
     "output_type": "stream",
     "text": [
      "(30000, 24)\n",
      "(30000, 90)\n",
      "(24000, 90) (6000, 90) (24000,) (6000,)\n"
     ]
    }
   ],
   "source": [
    "from sklearn.model_selection import train_test_split\n",
    "\n",
    "X_train, X_test, y_train, y_test = train_test_split(X,y, test_size=0.2)\n",
    "print(dataset.shape)\n",
    "print(X.shape)\n",
    "print(X_train.shape, X_test.shape, y_train.shape, y_test.shape)"
   ]
  },
  {
   "cell_type": "markdown",
   "metadata": {},
   "source": [
    "**Training Decision Tree Classifier**"
   ]
  },
  {
   "cell_type": "code",
   "execution_count": 15,
   "metadata": {
    "colab": {},
    "colab_type": "code",
    "id": "1Qr1SPGlPrgr"
   },
   "outputs": [
    {
     "name": "stdout",
     "output_type": "stream",
     "text": [
      "Time elapsed: 0.3987705707550049 seconds\n"
     ]
    }
   ],
   "source": [
    "from sklearn.tree import DecisionTreeClassifier\n",
    "import time\n",
    "\n",
    "time_start = time.time()\n",
    "\n",
    "tree_clf = DecisionTreeClassifier(max_depth=5, criterion='entropy')\n",
    "tree_clf.fit(X_train,y_train)\n",
    "\n",
    "print('Time elapsed: {} seconds'.format(time.time()-time_start))"
   ]
  },
  {
   "cell_type": "code",
   "execution_count": 16,
   "metadata": {},
   "outputs": [
    {
     "data": {
      "text/plain": [
       "[('LIMIT_BAL', 0.0),\n",
       " ('SEX', 0.0),\n",
       " ('EDUCATION', 0.0),\n",
       " ('MARRIAGE', 0.0),\n",
       " ('AGE', 0.0),\n",
       " ('PAY_0', 0.0),\n",
       " ('PAY_2', 0.0),\n",
       " ('PAY_3', 0.0027136028871097904),\n",
       " ('PAY_4', 0.0),\n",
       " ('PAY_5', 0.0),\n",
       " ('PAY_6', 0.0),\n",
       " ('BILL_AMT1', 0.0),\n",
       " ('BILL_AMT2', 0.0),\n",
       " ('BILL_AMT3', 0.0),\n",
       " ('BILL_AMT4', 0.0),\n",
       " ('BILL_AMT5', 0.0),\n",
       " ('BILL_AMT6', 0.0),\n",
       " ('PAY_AMT1', 0.537648561930486),\n",
       " ('PAY_AMT2', 0.02164989808789486),\n",
       " ('PAY_AMT3', 0.0),\n",
       " ('PAY_AMT4', 0.0),\n",
       " ('PAY_AMT5', 0.0),\n",
       " ('PAY_AMT6', 0.0),\n",
       " ('Default', 0.0)]"
      ]
     },
     "execution_count": 16,
     "metadata": {},
     "output_type": "execute_result"
    }
   ],
   "source": [
    "list(zip(dataset.columns, tree_clf.feature_importances_))"
   ]
  },
  {
   "cell_type": "markdown",
   "metadata": {},
   "source": [
    "It seems the main important features in predicting the payment default are payment amount 1 and 2."
   ]
  },
  {
   "cell_type": "code",
   "execution_count": 36,
   "metadata": {},
   "outputs": [
    {
     "name": "stdout",
     "output_type": "stream",
     "text": [
      "test accuracy for Decision Tree classifier: 82.4 %\n"
     ]
    },
    {
     "data": {
      "image/png": "[encoded data removed]",
      "text/plain": [
       "<Figure size 432x288 with 2 Axes>"
      ]
     },
     "metadata": {
      "needs_background": "light"
     },
     "output_type": "display_data"
    }
   ],
   "source": [
    "from sklearn.metrics import accuracy_score,confusion_matrix\n",
    "import matplotlib.pyplot as plt\n",
    "import seaborn as sns\n",
    "\n",
    "y_hat_tree = tree_clf.predict(X_test)\n",
    "\n",
    "print('test accuracy for Decision Tree classifier:'\\\n",
    "      , round(accuracy_score(y_test, y_hat_tree)*100, 2), '%')\n",
    "\n",
    "plt.title('Confusion matrix for Decision Tree classifier')\n",
    "sns.heatmap(confusion_matrix(y_test, y_hat_tree),annot=True, cmap=plt.cm.Blues)\n",
    "plt.xlabel('Predicted classes')\n",
    "plt.ylabel('True Classes')\n",
    "plt.show()"
   ]
  },
  {
   "cell_type": "code",
   "execution_count": 18,
   "metadata": {},
   "outputs": [
    {
     "name": "stdout",
     "output_type": "stream",
     "text": [
      "Test accuracy for Decision Tree classifier:\n",
      "with max_depth = 2, min_samples_leaf = 50,and min_impurity_decrease=0.01: 81.92 %\n",
      "with max_depth = 2, min_samples_leaf = 50,and min_impurity_decrease=0.05: 81.92 %\n",
      "with max_depth = 2, min_samples_leaf = 50,and min_impurity_decrease=0.1: 78.25 %\n",
      "with max_depth = 2, min_samples_leaf = 100,and min_impurity_decrease=0.01: 81.92 %\n",
      "with max_depth = 2, min_samples_leaf = 100,and min_impurity_decrease=0.05: 81.92 %\n",
      "with max_depth = 2, min_samples_leaf = 100,and min_impurity_decrease=0.1: 78.25 %\n",
      "with max_depth = 2, min_samples_leaf = 400,and min_impurity_decrease=0.01: 81.92 %\n",
      "with max_depth = 2, min_samples_leaf = 400,and min_impurity_decrease=0.05: 81.92 %\n",
      "with max_depth = 2, min_samples_leaf = 400,and min_impurity_decrease=0.1: 78.25 %\n",
      "with max_depth = 4, min_samples_leaf = 50,and min_impurity_decrease=0.01: 81.92 %\n",
      "with max_depth = 4, min_samples_leaf = 50,and min_impurity_decrease=0.05: 81.92 %\n",
      "with max_depth = 4, min_samples_leaf = 50,and min_impurity_decrease=0.1: 78.25 %\n",
      "with max_depth = 4, min_samples_leaf = 100,and min_impurity_decrease=0.01: 81.92 %\n",
      "with max_depth = 4, min_samples_leaf = 100,and min_impurity_decrease=0.05: 81.92 %\n",
      "with max_depth = 4, min_samples_leaf = 100,and min_impurity_decrease=0.1: 78.25 %\n",
      "with max_depth = 4, min_samples_leaf = 400,and min_impurity_decrease=0.01: 81.92 %\n",
      "with max_depth = 4, min_samples_leaf = 400,and min_impurity_decrease=0.05: 81.92 %\n",
      "with max_depth = 4, min_samples_leaf = 400,and min_impurity_decrease=0.1: 78.25 %\n",
      "with max_depth = 8, min_samples_leaf = 50,and min_impurity_decrease=0.01: 81.92 %\n",
      "with max_depth = 8, min_samples_leaf = 50,and min_impurity_decrease=0.05: 81.92 %\n",
      "with max_depth = 8, min_samples_leaf = 50,and min_impurity_decrease=0.1: 78.25 %\n",
      "with max_depth = 8, min_samples_leaf = 100,and min_impurity_decrease=0.01: 81.92 %\n",
      "with max_depth = 8, min_samples_leaf = 100,and min_impurity_decrease=0.05: 81.92 %\n",
      "with max_depth = 8, min_samples_leaf = 100,and min_impurity_decrease=0.1: 78.25 %\n",
      "with max_depth = 8, min_samples_leaf = 400,and min_impurity_decrease=0.01: 81.92 %\n",
      "with max_depth = 8, min_samples_leaf = 400,and min_impurity_decrease=0.05: 81.92 %\n",
      "with max_depth = 8, min_samples_leaf = 400,and min_impurity_decrease=0.1: 78.25 %\n"
     ]
    }
   ],
   "source": [
    "depth=[2,4,8]\n",
    "leaf=[50,100,400]\n",
    "impurity=[0.01,0.05,0.1]\n",
    "\n",
    "print('Test accuracy for Decision Tree classifier:')\n",
    "\n",
    "for i in depth:\n",
    "    for j in leaf:\n",
    "        for k in impurity:\n",
    "            tree_clf = DecisionTreeClassifier(max_depth=i,min_samples_leaf=j,min_impurity_decrease=k,criterion='entropy')\n",
    "            tree_clf.fit(X_train,y_train)\n",
    "            y_hat_tree = tree_clf.predict(X_test)\n",
    "\n",
    "            print('with max_depth = {}, min_samples_leaf = {},and min_impurity_decrease={}:'.format(i,j,k)\n",
    "          , round(accuracy_score(y_test, y_hat_tree)*100, 2), '%')\n"
   ]
  },
  {
   "cell_type": "markdown",
   "metadata": {},
   "source": [
    "**Discussion**\n",
    "\n",
    "Trying different values for max_depth, min_samples_leaf,and min_impurity_decrease shows that:\n",
    "- Changing the max_depth from 2 to 8 does not affect the test accuracy\n",
    "- Changing the min_samples_leaf from 50 to 400 also does not change the test accuracy\n",
    "- Minimum impurity decrease 0.01 and 0.05 gives the same result and increasing it to 0.1, lowers the test accuracy."
   ]
  },
  {
   "cell_type": "markdown",
   "metadata": {
    "colab_type": "text",
    "id": "QwcecRukPrgw"
   },
   "source": [
    "#### Question 2 (4 pts)\n",
    "\n",
    "Try to build the decision tree which you built for the previous question, but this time by RandomGrid search over hyper-parameters. Compare the results."
   ]
  },
  {
   "cell_type": "markdown",
   "metadata": {},
   "source": [
    "**Hyperparameter Random Grid Search**"
   ]
  },
  {
   "cell_type": "code",
   "execution_count": 19,
   "metadata": {
    "colab": {},
    "colab_type": "code",
    "id": "4XHRmsWOPrgx"
   },
   "outputs": [
    {
     "name": "stdout",
     "output_type": "stream",
     "text": [
      "Time elapsed: 46.427372217178345 seconds\n"
     ]
    }
   ],
   "source": [
    "from sklearn.model_selection import RandomizedSearchCV\n",
    "\n",
    "param_dist = {'max_depth':[2,4,8,12,20],\n",
    "              'min_samples_leaf':[5,10,50,100,400],\n",
    "              'min_impurity_decrease':[0.001,0.01,0.02,0.05,0.1],\n",
    "              'criterion':['gini','entropy']}\n",
    "\n",
    "tree_clf = DecisionTreeClassifier()\n",
    "\n",
    "time_start = time.time()\n",
    "\n",
    "random_search = RandomizedSearchCV(estimator=tree_clf, \n",
    "                           param_distributions=param_dist,\n",
    "                           n_iter=50,                     \n",
    "                           scoring='roc_auc',\n",
    "                           cv=5)\n",
    "\n",
    "random_search.fit(X_train, y_train)\n",
    "\n",
    "print('Time elapsed: {} seconds'.format(time.time()-time_start))"
   ]
  },
  {
   "cell_type": "code",
   "execution_count": 20,
   "metadata": {},
   "outputs": [
    {
     "name": "stdout",
     "output_type": "stream",
     "text": [
      "{'min_samples_leaf': 5, 'min_impurity_decrease': 0.001, 'max_depth': 20, 'criterion': 'entropy'}\n",
      "\n",
      " DecisionTreeClassifier(class_weight=None, criterion='entropy', max_depth=20,\n",
      "                       max_features=None, max_leaf_nodes=None,\n",
      "                       min_impurity_decrease=0.001, min_impurity_split=None,\n",
      "                       min_samples_leaf=5, min_samples_split=2,\n",
      "                       min_weight_fraction_leaf=0.0, presort=False,\n",
      "                       random_state=None, splitter='best')\n"
     ]
    }
   ],
   "source": [
    "print(random_search.best_params_)\n",
    "print(\"\\n\",random_search.best_estimator_)"
   ]
  },
  {
   "cell_type": "code",
   "execution_count": 21,
   "metadata": {},
   "outputs": [
    {
     "name": "stdout",
     "output_type": "stream",
     "text": [
      "Time elapsed: 0.506730318069458 seconds\n",
      "Test accuracy for Decision Tree classifier, using best parameters from random search: 82.4 %\n"
     ]
    }
   ],
   "source": [
    "tree_clf=DecisionTreeClassifier(max_depth= random_search.best_params_['max_depth'],\n",
    "                                min_impurity_decrease= random_search.best_params_['min_impurity_decrease'],\n",
    "                                min_samples_leaf= random_search.best_params_['min_samples_leaf'],\n",
    "                                criterion=random_search.best_params_['criterion'])\n",
    "time_start = time.time()\n",
    "\n",
    "tree_clf.fit(X_train,y_train)\n",
    "y_hat_tree = tree_clf.predict(X_test)\n",
    "\n",
    "print('Time elapsed: {} seconds'.format(time.time()-time_start))\n",
    "print('Test accuracy for Decision Tree classifier, using best parameters from random search:',\n",
    "      round(accuracy_score(y_test, y_hat_tree)*100, 2), '%')\n"
   ]
  },
  {
   "cell_type": "markdown",
   "metadata": {},
   "source": [
    "**Discussion**\n",
    "\n",
    "Different ranges of four hyperparameters (max_depth, min_samples_leaf, min_impurity_decrease, and criterion) were used for the random search and best parameters in those ranges were chosen:\n",
    "- max_depth= 20, \n",
    "- min_impurity_decrease= 0.001, \n",
    "- min_samples_leaf= 5, and \n",
    "- criterion='entropy'\n",
    "\n",
    "These best parameters give the test accuracy of 82.4% which is better than 81.92% and 78.25% we got from the previous section when we tried different hyperparameters but it is the same as the decision tree in Q1 (probably by chance). With random grid search we covered a wider range for the parameters.  "
   ]
  },
  {
   "cell_type": "markdown",
   "metadata": {
    "colab_type": "text",
    "id": "dEvsYwiXPrg3"
   },
   "source": [
    "#### Question 3 (6 pts)\n",
    "\n",
    "Try to build the same classifier by using following ensemble models. For each of these models calculate accuracy and at least for two in the list below, plot the learning curves.\n",
    "\n",
    "* Random Forest \n",
    "* AdaBoost\n",
    "* Extra Trees Classifier \n",
    "* Gradient Boosted Trees \n"
   ]
  },
  {
   "cell_type": "markdown",
   "metadata": {},
   "source": [
    "**Defining function for plotting learning curve**"
   ]
  },
  {
   "cell_type": "code",
   "execution_count": 22,
   "metadata": {},
   "outputs": [],
   "source": [
    "from sklearn.metrics import mean_squared_error\n",
    "\n",
    "def plot_learning_curves(model, X, y,lapse):\n",
    "    X_train, X_val, y_train, y_val = train_test_split(X, y, test_size=0.2)\n",
    "    train_errors, val_errors = [], []\n",
    "    for m in range(1,len(X_train),lapse):\n",
    "        model.fit(X_train[:m], y_train[:m])\n",
    "        y_train_predict = model.predict(X_train[:m])\n",
    "        y_val_predict = model.predict(X_val)\n",
    "        train_errors.append(mean_squared_error(y_train_predict, y_train[:m]))\n",
    "        val_errors.append(mean_squared_error(y_val_predict, y_val))\n",
    "    x_axis=[lapse * i for i in list(range(0,len(train_errors)))]\n",
    "    plt.plot(x_axis,np.sqrt(train_errors), \"r-+\", linewidth=2, label=\"Training set\")\n",
    "    plt.plot(x_axis,np.sqrt(val_errors), \"b-\", linewidth=3, label=\"Validation set\")\n",
    "    plt.xlabel('Training set size')\n",
    "    plt.ylabel('RMSE')\n",
    "    plt.legend()"
   ]
  },
  {
   "cell_type": "markdown",
   "metadata": {},
   "source": [
    "#### 1) Random Forest Classifier"
   ]
  },
  {
   "cell_type": "code",
   "execution_count": 23,
   "metadata": {
    "colab": {},
    "colab_type": "code",
    "id": "1Qr1SPGlPrgr"
   },
   "outputs": [
    {
     "name": "stdout",
     "output_type": "stream",
     "text": [
      "Time elapsed: 1.231290340423584 seconds\n",
      "BILL_AMT5 : 0.11614269231258696\n",
      "BILL_AMT6 : 0.012922328996429883\n",
      "PAY_AMT1 : 0.1676095145963773\n",
      "PAY_AMT2 : 0.01776431995803329\n"
     ]
    }
   ],
   "source": [
    "from sklearn.ensemble import RandomForestClassifier\n",
    "\n",
    "time_start = time.time()\n",
    "RF_clf = RandomForestClassifier(n_estimators=100, max_depth=2,criterion='entropy')\n",
    "RF_clf.fit(X_train,y_train)\n",
    "\n",
    "t_RF_clf=time.time()-time_start\n",
    "print('Time elapsed: {} seconds'.format(t_RF_clf))\n",
    "\n",
    "for feature, importance in zip(dataset.columns, RF_clf.feature_importances_):\n",
    "    if importance>0.01:\n",
    "        print(feature,':',importance)"
   ]
  },
  {
   "cell_type": "code",
   "execution_count": 24,
   "metadata": {},
   "outputs": [
    {
     "name": "stdout",
     "output_type": "stream",
     "text": [
      "Test accuracy for Random Forest classifier:82.40%\n"
     ]
    }
   ],
   "source": [
    "y_hat_clf = RF_clf.predict(X_test)\n",
    "\n",
    "print('Test accuracy for Random Forest classifier:{:.2f}%'.format(accuracy_score(y_test, y_hat_tree)*100))"
   ]
  },
  {
   "cell_type": "code",
   "execution_count": 25,
   "metadata": {},
   "outputs": [
    {
     "name": "stdout",
     "output_type": "stream",
     "text": [
      "Random Forest Classifier\n"
     ]
    },
    {
     "data": {
      "image/png": "[encoded data removed]",
      "text/plain": [
       "<Figure size 432x288 with 1 Axes>"
      ]
     },
     "metadata": {
      "needs_background": "light"
     },
     "output_type": "display_data"
    }
   ],
   "source": [
    "l=int(len(X)/900*t_RF_clf) # do the calculation for every l sample to keep the running time 900 sec\n",
    "print('Random Forest Classifier')\n",
    "plot_learning_curves(RF_clf, X, y,l)"
   ]
  },
  {
   "cell_type": "markdown",
   "metadata": {},
   "source": [
    "#### 2) AdaBoost Classifier"
   ]
  },
  {
   "cell_type": "code",
   "execution_count": 26,
   "metadata": {
    "colab": {},
    "colab_type": "code",
    "id": "1Qr1SPGlPrgr"
   },
   "outputs": [
    {
     "name": "stdout",
     "output_type": "stream",
     "text": [
      "Time elapsed: 14.048941850662231 seconds\n",
      "BILL_AMT5 : 0.011179485186526582\n",
      "PAY_AMT1 : 0.016699621638384267\n"
     ]
    }
   ],
   "source": [
    "from sklearn.ensemble import AdaBoostClassifier\n",
    "\n",
    "ada_clf = AdaBoostClassifier(DecisionTreeClassifier(max_depth=2),n_estimators=100,\n",
    "                            algorithm=\"SAMME.R\", learning_rate=0.5)\n",
    "\n",
    "time_start = time.time()\n",
    "ada_clf.fit(X_train,y_train)\n",
    "\n",
    "t_ada_clf=time.time()-time_start\n",
    "print('Time elapsed: {} seconds'.format(t_ada_clf))\n",
    "\n",
    "for feature, importance in zip(dataset.columns, ada_clf.feature_importances_):\n",
    "    if importance>0.01:\n",
    "        print(feature,':',importance)"
   ]
  },
  {
   "cell_type": "code",
   "execution_count": 27,
   "metadata": {},
   "outputs": [
    {
     "name": "stdout",
     "output_type": "stream",
     "text": [
      "Test accuracy for AdaBoost classifier:82.40%\n"
     ]
    }
   ],
   "source": [
    "y_hat_clf = ada_clf.predict(X_test)\n",
    "\n",
    "print('Test accuracy for AdaBoost classifier:{:.2f}%'.format(accuracy_score(y_test, y_hat_tree)*100))"
   ]
  },
  {
   "cell_type": "code",
   "execution_count": 28,
   "metadata": {},
   "outputs": [
    {
     "name": "stdout",
     "output_type": "stream",
     "text": [
      "AdaBoost Classifier\n"
     ]
    },
    {
     "data": {
      "image/png": "[encoded data removed]",
      "text/plain": [
       "<Figure size 432x288 with 1 Axes>"
      ]
     },
     "metadata": {
      "needs_background": "light"
     },
     "output_type": "display_data"
    }
   ],
   "source": [
    "l=int(len(X)/900*t_ada_clf) # do the calculation for every l sample to keep the running time 900 sec\n",
    "print('AdaBoost Classifier')\n",
    "plot_learning_curves(ada_clf, X, y,l)"
   ]
  },
  {
   "cell_type": "markdown",
   "metadata": {},
   "source": [
    "#### 3) Extra Trees Classifier"
   ]
  },
  {
   "cell_type": "code",
   "execution_count": 29,
   "metadata": {
    "colab": {},
    "colab_type": "code",
    "id": "1Qr1SPGlPrgr"
   },
   "outputs": [
    {
     "name": "stdout",
     "output_type": "stream",
     "text": [
      "Time elapsed: 5.914607286453247 seconds\n",
      "SEX : 0.010011821882311669\n",
      "MARRIAGE : 0.01008817261150792\n",
      "AGE : 0.011344187280898\n",
      "PAY_6 : 0.010887279509693856\n",
      "BILL_AMT1 : 0.010823119776460227\n",
      "BILL_AMT5 : 0.017080756098752283\n",
      "PAY_AMT1 : 0.05523484238231217\n"
     ]
    }
   ],
   "source": [
    "from sklearn.ensemble import ExtraTreesClassifier\n",
    "\n",
    "ext_clf = ExtraTreesClassifier(n_estimators=100)    \n",
    "\n",
    "time_start = time.time()\n",
    "ext_clf.fit(X_train,y_train)\n",
    "\n",
    "t_ext_clf=time.time()-time_start\n",
    "\n",
    "print('Time elapsed: {} seconds'.format(t_ext_clf))\n",
    "\n",
    "for feature, importance in zip(dataset.columns, ext_clf.feature_importances_):\n",
    "    if importance>0.01:\n",
    "        print(feature,':',importance)"
   ]
  },
  {
   "cell_type": "code",
   "execution_count": 30,
   "metadata": {},
   "outputs": [
    {
     "name": "stdout",
     "output_type": "stream",
     "text": [
      "Test accuracy for Extra Trees classifier:82.40%\n"
     ]
    }
   ],
   "source": [
    "y_hat_clf = ext_clf.predict(X_test)\n",
    "\n",
    "print('Test accuracy for Extra Trees classifier:{:.2f}%'.format(accuracy_score(y_test, y_hat_tree)*100))"
   ]
  },
  {
   "cell_type": "code",
   "execution_count": 31,
   "metadata": {},
   "outputs": [
    {
     "name": "stdout",
     "output_type": "stream",
     "text": [
      "Extra Trees Classifier\n"
     ]
    },
    {
     "data": {
      "image/png": "[encoded data removed]",
      "text/plain": [
       "<Figure size 432x288 with 1 Axes>"
      ]
     },
     "metadata": {
      "needs_background": "light"
     },
     "output_type": "display_data"
    }
   ],
   "source": [
    "l=int(len(X)/900*t_ext_clf) # do the calculation for every l sample to keep the running time 900 sec\n",
    "print('Extra Trees Classifier')\n",
    "plot_learning_curves(ext_clf, X, y,l)"
   ]
  },
  {
   "cell_type": "markdown",
   "metadata": {},
   "source": [
    "#### 4) Gradient Boosting Classifier"
   ]
  },
  {
   "cell_type": "code",
   "execution_count": 32,
   "metadata": {
    "colab": {},
    "colab_type": "code",
    "id": "1Qr1SPGlPrgr"
   },
   "outputs": [
    {
     "name": "stdout",
     "output_type": "stream",
     "text": [
      "Time elapsed: 12.371904134750366 seconds\n",
      "PAY_AMT1 : 0.44317388660068063\n",
      "PAY_AMT2 : 0.021728814701224498\n"
     ]
    }
   ],
   "source": [
    "from sklearn.ensemble import GradientBoostingClassifier\n",
    "\n",
    "GB_clf = GradientBoostingClassifier(n_estimators=100)\n",
    "                             \n",
    "time_start = time.time()\n",
    "GB_clf.fit(X_train,y_train)\n",
    "\n",
    "t_GB_clf=time.time()-time_start\n",
    "print('Time elapsed: {} seconds'.format(t_GB_clf))\n",
    "\n",
    "for feature, importance in zip(dataset.columns, GB_clf.feature_importances_):\n",
    "    if importance>0.01:\n",
    "        print(feature,':',importance)"
   ]
  },
  {
   "cell_type": "code",
   "execution_count": 33,
   "metadata": {},
   "outputs": [
    {
     "name": "stdout",
     "output_type": "stream",
     "text": [
      "Test accuracy for Gradient Boosted Trees classifier:82.40%\n"
     ]
    }
   ],
   "source": [
    "y_hat_clf = GB_clf.predict(X_test)\n",
    "\n",
    "print('Test accuracy for Gradient Boosted Trees classifier:{:.2f}%'.format(accuracy_score(y_test, y_hat_tree)*100))"
   ]
  },
  {
   "cell_type": "markdown",
   "metadata": {
    "colab_type": "text",
    "id": "qwyr2ulhPrg8"
   },
   "source": [
    "#### Question 4 (3 pts)\n",
    "\n",
    "Discuss and compare the results for the all past three questions. \n",
    "\n",
    "* How does changing hyperparms effect model performance? \n",
    "* Why do you think certain models performed better/worse? \n",
    "* How does this performance line up with known strengths/weakness of these models?"
   ]
  },
  {
   "cell_type": "markdown",
   "metadata": {},
   "source": [
    "**1) How does changing hyperparms effect model performance?**\n",
    "\n",
    "By trying a range for the selected hyperparameters the test accuracy changed in the range of 78.25% to 81.92%. This is not a significant change and comparing to the test accuracy of decision tree (82.4%) it seems that the model performance is not affected much by the selected hyperparamters.\n",
    "\n",
    "    max_depth: [2,4,8,12,20] => best : 20\n",
    "    min_samples_leaf: [5,10,50,100,400] => best: 5\n",
    "    min_impurity_decrease: [0.001,0.01,0.02,0.05,0.1] =>  best = 0.001\n",
    "    criterion: ['gini','entropy'] => best: entropy\n",
    "    \n",
    " \n",
    "These best parameters give the test accuracy of 82.4% which is slightly better than 81.92% and 78.25% we got from the previous section. \n",
    "\n",
    "When the best parameters are the minimum or maximum of the range, we can try smaller and larger values for that parameter to see if the performance changes or not. \n",
    "\n"
   ]
  },
  {
   "cell_type": "markdown",
   "metadata": {},
   "source": [
    "**2) Why do you think certain models performed better/worse?**\n",
    "\n",
    "The test accuracy of all the models is the same (82.4%) but their running time is different and they select different features with different coefficients as the important features.\n",
    "\n",
    "It was expected that the Extra tree be the fastest model but random forest was the fastest. \n",
    "\n",
    "Extra Tree selected more features as important features. This can be due to the fact that Extra Tree is more random  by using random thresholds for each feature rather than searching for the best possible thresholds selection of the features (like regular Decision Trees do) or considering a random subset of features at each node for splitting (like a Random Forest). Also by looking at the learning curve, it seems that the extra tree is overfitting the training set. \n",
    "\n",
    "\n",
    "AdaBoost and Gradient Boosted trees both take much longer to train the training set. Also, by looking at the learning curve for Adaboost, it can be seen that it needs a larger training set compared to Random Forest to perform well on both training and validation sets.    \n",
    "\n",
    "A summary of the models output is as follows:\n",
    "\n",
    "\n",
    "**2-1) Random Forest Classifier:**\n",
    "\n",
    "   Time elapsed: 1.23 seconds\n",
    "   \n",
    "   Test accuracy for Random Forest classifier:82.40%\n",
    "\n",
    "   *Feature importance:*\n",
    "   \n",
    "    PAY_AMT1 : 0.1676\n",
    "    BILL_AMT5 : 0.116\n",
    "    PAY_AMT2 : 0.018\n",
    "    BILL_AMT6 : 0.013\n",
    "    \n",
    "   learning curver converts quickly less than 1000 training set size\n",
    "\n",
    "\n",
    "**2-2)AdaBoost classifier:**\n",
    "\n",
    "   Time elapsed: 14.05 seconds\n",
    "   \n",
    "   Test accuracy for AdaBoost classifier:82.40%\n",
    "\n",
    "   *Feature importance:*\n",
    "    \n",
    "    PAY_AMT1 : 0.0166\n",
    "    BILL_AMT5 : 0.011  \n",
    "    \n",
    "\n",
    "**2-3) Extra Trees classifier:**\n",
    "    \n",
    "   Time elapsed: 5.91 seconds\n",
    "   \n",
    "   Test accuracy for Extra Trees classifier:82.40%\n",
    "\n",
    "   *Feature importance:*\n",
    "    \n",
    "    PAY_AMT1 : 0.055\n",
    "    BILL_AMT5 : 0.017\n",
    "    AGE : 0.011\n",
    "    PAY_6 : 0.011\n",
    "    BILL_AMT1 : 0.011\n",
    "    SEX : 0.010\n",
    "    MARRIAGE : 0.010\n",
    " \n",
    "\n",
    "**2-4) Gradient Boosted Trees:**\n",
    "\n",
    "   Time elapsed: 12.37 seconds    \n",
    "   \n",
    "   Test accuracy for Gradient Boosted Trees classifier:82.40%\n",
    "    \n",
    "   *Feature importance:*\n",
    "    \n",
    "    PAY_AMT1 : 0.443\n",
    "    PAY_AMT2 : 0.022\n"
   ]
  },
  {
   "cell_type": "markdown",
   "metadata": {},
   "source": [
    "**3) How does this performance line up with known strengths/weakness of these models?**\n",
    "\n",
    "As was expected, boosting method takes longer to train the dataset. \n",
    "All models give similar test accuracy. \n",
    "Due to more randomness of the extra tree method on choosing the features, more best features are selected by extra tree method but the learning curve of the extra tree shows that it does not have a good performance on both traning and validation sets and it seems it is overfitting the training set.   \n",
    "\n",
    "*Random Forest Classifier:*\n",
    "    Time elapsed: 1.23129 seconds\n",
    "\n",
    "*AdaBoost classifier:*\n",
    "    Time elapsed: 14.04894 seconds\n",
    "\n",
    "*Extra Trees classifier:*\n",
    "    Time elapsed: 5.91461 seconds\n",
    "\n",
    "*Gradient Boosted Trees:*\n",
    "    Time elapsed: 12.37190 seconds\n"
   ]
  },
  {
   "cell_type": "code",
   "execution_count": null,
   "metadata": {},
   "outputs": [],
   "source": []
  }
 ],
 "metadata": {
  "colab": {
   "collapsed_sections": [],
   "name": "Assignment 4_modified.ipynb",
   "provenance": [],
   "version": "0.3.2"
  },
  "kernelspec": {
   "display_name": "Python 3",
   "language": "python",
   "name": "python3"
  },
  "language_info": {
   "codemirror_mode": {
    "name": "ipython",
    "version": 3
   },
   "file_extension": ".py",
   "mimetype": "text/x-python",
   "name": "python",
   "nbconvert_exporter": "python",
   "pygments_lexer": "ipython3",
   "version": "3.7.4"
  }
 },
 "nbformat": 4,
 "nbformat_minor": 1
}
